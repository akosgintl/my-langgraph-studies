{
 "cells": [
  {
   "cell_type": "markdown",
   "id": "1df78a71",
   "metadata": {},
   "source": [
    "# Build an Agent\n",
    "\n",
    "LangChain supports the creation of [agents](/docs/concepts/agents), or systems that use [LLMs](/docs/concepts/chat_models) as reasoning engines to determine which actions to take and the inputs necessary to perform the action.\n",
    "After executing actions, the results can be fed back into the LLM to determine whether more actions are needed, or whether it is okay to finish. This is often achieved via [tool-calling](/docs/concepts/tool_calling).\n",
    "\n",
    "In this tutorial we will build an agent that can interact with a search engine. You will be able to ask this agent questions, watch it call the search tool, and have conversations with it.\n",
    "\n",
    "## End-to-end agent\n",
    "\n",
    "The code snippet below represents a fully functional agent that uses an LLM to decide which tools to use. It is equipped with a generic search tool. It has conversational memory - meaning that it can be used as a multi-turn chatbot.\n",
    "\n",
    "In the rest of the guide, we will walk through the individual components and what each part does - but if you want to just grab some code and get started, feel free to use this!"
   ]
  },
  {
   "cell_type": "code",
   "execution_count": 1,
   "id": "86d9386b-442f-4cd6-a78f-57c88249d3f0",
   "metadata": {},
   "outputs": [],
   "source": [
    "# Import relevant functionality\n",
    "from langchain.chat_models import init_chat_model\n",
    "from langchain_tavily import TavilySearch\n",
    "from langgraph.checkpoint.memory import MemorySaver\n",
    "from langgraph.prebuilt import create_react_agent\n",
    "\n",
    "# Create the agent\n",
    "memory = MemorySaver()\n",
    "model = init_chat_model(\"anthropic:claude-3-5-sonnet-latest\")\n",
    "search = TavilySearch(max_results=2)\n",
    "tools = [search]\n",
    "agent_executor = create_react_agent(model, tools, checkpointer=memory)"
   ]
  },
  {
   "cell_type": "code",
   "execution_count": 2,
   "id": "7ab50503-d09f-4ff4-9080-5afe297ccc38",
   "metadata": {},
   "outputs": [
    {
     "name": "stdout",
     "output_type": "stream",
     "text": [
      "================================\u001b[1m Human Message \u001b[0m=================================\n",
      "\n",
      "Hi, I'm Bob and I live in SF.\n",
      "==================================\u001b[1m Ai Message \u001b[0m==================================\n",
      "\n",
      "Hello Bob! I see you're from San Francisco. Since you haven't asked a specific question or made a particular request, I'm here to help but I need to know what information you're looking for. Feel free to ask any question, and I'll do my best to assist you using the tools available to me.\n",
      "\n",
      "What would you like to know about?\n"
     ]
    }
   ],
   "source": [
    "# Use the agent\n",
    "config = {\"configurable\": {\"thread_id\": \"abc123\"}}\n",
    "\n",
    "input_message = {\n",
    "    \"role\": \"user\",\n",
    "    \"content\": \"Hi, I'm Bob and I live in SF.\",\n",
    "}\n",
    "for step in agent_executor.stream(\n",
    "    {\"messages\": [input_message]}, config, stream_mode=\"values\"\n",
    "):\n",
    "    step[\"messages\"][-1].pretty_print()"
   ]
  },
  {
   "cell_type": "code",
   "execution_count": 3,
   "id": "fcadb699-3787-4028-a5f6-e5605c8118d4",
   "metadata": {},
   "outputs": [
    {
     "name": "stdout",
     "output_type": "stream",
     "text": [
      "================================\u001b[1m Human Message \u001b[0m=================================\n",
      "\n",
      "What's the weather where I live?\n",
      "==================================\u001b[1m Ai Message \u001b[0m==================================\n",
      "\n",
      "[{'text': 'Let me search for current weather information in San Francisco.', 'type': 'text'}, {'id': 'toolu_011Gym3VhY887QA62MknyjUM', 'input': {'query': 'current weather San Francisco CA', 'time_range': 'day'}, 'name': 'tavily_search', 'type': 'tool_use'}]\n",
      "Tool Calls:\n",
      "  tavily_search (toolu_011Gym3VhY887QA62MknyjUM)\n",
      " Call ID: toolu_011Gym3VhY887QA62MknyjUM\n",
      "  Args:\n",
      "    query: current weather San Francisco CA\n",
      "    time_range: day\n",
      "=================================\u001b[1m Tool Message \u001b[0m=================================\n",
      "Name: tavily_search\n",
      "\n",
      "{\"query\": \"current weather San Francisco CA\", \"follow_up_questions\": null, \"answer\": null, \"images\": [], \"results\": [{\"title\": \"Weather in San Francisco, CA\", \"url\": \"https://www.weatherapi.com/\", \"content\": \"{'location': {'name': 'San Francisco', 'region': 'California', 'country': 'United States of America', 'lat': 37.775, 'lon': -122.4183, 'tz_id': 'America/Los_Angeles', 'localtime_epoch': 1756662410, 'localtime': '2025-08-31 10:46'}, 'current': {'last_updated_epoch': 1756662300, 'last_updated': '2025-08-31 10:45', 'temp_c': 22.2, 'temp_f': 72.0, 'is_day': 1, 'condition': {'text': 'Cloudy', 'icon': '//cdn.weatherapi.com/weather/64x64/day/119.png', 'code': 1006}, 'wind_mph': 4.0, 'wind_kph': 6.5, 'wind_degree': 254, 'wind_dir': 'WSW', 'pressure_mb': 1014.0, 'pressure_in': 29.95, 'precip_mm': 0.0, 'precip_in': 0.0, 'humidity': 66, 'cloud': 25, 'feelslike_c': 24.7, 'feelslike_f': 76.4, 'windchill_c': 14.2, 'windchill_f': 57.5, 'heatindex_c': 14.4, 'heatindex_f': 58.0, 'dewpoint_c': 12.9, 'dewpoint_f': 55.2, 'vis_km': 16.0, 'vis_miles': 9.0, 'uv': 3.1, 'gust_mph': 7.2, 'gust_kph': 11.6}}\", \"score\": 0.9387666, \"raw_content\": null}, {\"url\": \"http://www.weatherstreet.com/weather-forecast/San-Francisco-CA-94125.htm\", \"title\": \"SAN FRANCISCO, CA 94125 Weather Forecast\", \"content\": \"SAN FRANCISCO, CA 94125 Weather Forecast & Current Conditions ; Sunday 31 AUG 2025, SAN FRANCISCO, CA 94125 weather forecast Day 2, 0 hours, 11 PM, 65°, 65° ; Low\", \"score\": 0.91988057, \"raw_content\": null}], \"response_time\": 6.97, \"request_id\": \"18961c3a-1db9-4479-9075-8aff6dba9a64\"}\n",
      "==================================\u001b[1m Ai Message \u001b[0m==================================\n",
      "\n",
      "Based on the current weather information for San Francisco:\n",
      "- Temperature is around 72°F (22.2°C)\n",
      "- Conditions are cloudy\n",
      "- Humidity is 66%\n",
      "- Wind speed is light at 4 mph from the WSW direction\n",
      "- Visibility is good at 9 miles\n",
      "\n",
      "It's a typical San Francisco day with mild temperatures and some clouds, which is characteristic of the city's microclimate. Remember that San Francisco's weather can change throughout the day, particularly with the famous fog rolling in and out.\n"
     ]
    }
   ],
   "source": [
    "input_message = {\n",
    "    \"role\": \"user\",\n",
    "    \"content\": \"What's the weather where I live?\",\n",
    "}\n",
    "\n",
    "for step in agent_executor.stream(\n",
    "    {\"messages\": [input_message]}, config, stream_mode=\"values\"\n",
    "):\n",
    "    step[\"messages\"][-1].pretty_print()"
   ]
  },
  {
   "cell_type": "markdown",
   "id": "f4c03f40-1328-412d-8a48-1db0cd481b77",
   "metadata": {},
   "source": [
    "## Setup\n",
    "\n",
    "### Jupyter Notebook\n",
    "\n",
    "This guide (and most of the other guides in the documentation) uses [Jupyter notebooks](https://jupyter.org/) and assumes the reader is as well. Jupyter notebooks are perfect interactive environments for learning how to work with LLM systems because oftentimes things can go wrong (unexpected output, API down, etc), and observing these cases is a great way to better understand building with LLMs.\n",
    "\n",
    "This and other tutorials are perhaps most conveniently run in a Jupyter notebook. See [here](https://jupyter.org/install) for instructions on how to install.\n",
    "\n",
    "### Installation\n",
    "\n",
    "To install LangChain run:"
   ]
  },
  {
   "cell_type": "code",
   "execution_count": 20,
   "id": "60bb3eb1",
   "metadata": {},
   "outputs": [],
   "source": [
    "%%capture --no-stderr\n",
    "%pip install --upgrade --quiet langgraph langchain-tavily langgraph-checkpoint-sqlite"
   ]
  },
  {
   "cell_type": "markdown",
   "id": "2ee337ae",
   "metadata": {},
   "source": [
    "For more details, see our [Installation guide](/docs/how_to/installation).\n",
    "\n",
    "### LangSmith\n",
    "\n",
    "Many of the applications you build with LangChain will contain multiple steps with multiple invocations of LLM calls.\n",
    "As these applications get more and more complex, it becomes crucial to be able to inspect what exactly is going on inside your chain or agent.\n",
    "The best way to do this is with [LangSmith](https://smith.langchain.com).\n",
    "\n",
    "After you sign up at the link above, make sure to set your environment variables to start logging traces:\n",
    "\n",
    "```shell\n",
    "export LANGSMITH_TRACING=\"true\"\n",
    "export LANGSMITH_API_KEY=\"...\"\n",
    "```\n",
    "\n",
    "Or, if in a notebook, you can set them with:\n",
    "\n",
    "```python\n",
    "import getpass\n",
    "import os\n",
    "\n",
    "os.environ[\"LANGSMITH_TRACING\"] = \"true\"\n",
    "os.environ[\"LANGSMITH_API_KEY\"] = getpass.getpass()\n",
    "```\n",
    "\n",
    "### Tavily\n",
    "\n",
    "We will be using [Tavily](/docs/integrations/tools/tavily_search) (a search engine) as a tool.\n",
    "In order to use it, you will need to get and set an API key:\n",
    "\n",
    "```bash\n",
    "export TAVILY_API_KEY=\"...\"\n",
    "```\n",
    "\n",
    "Or, if in a notebook, you can set it with:\n",
    "\n",
    "```python\n",
    "import getpass\n",
    "import os\n",
    "\n",
    "os.environ[\"TAVILY_API_KEY\"] = getpass.getpass()\n",
    "```"
   ]
  },
  {
   "cell_type": "markdown",
   "id": "c335d1bf",
   "metadata": {},
   "source": [
    "## Define tools\n",
    "\n",
    "We first need to create the tools we want to use. Our main tool of choice will be [Tavily](/docs/integrations/tools/tavily_search) - a search engine. We can use the dedicated [langchain-tavily](https://pypi.org/project/langchain-tavily/) [integration package](/docs/concepts/architecture/#integration-packages) to easily use Tavily search engine as tool with LangChain.\n"
   ]
  },
  {
   "cell_type": "code",
   "execution_count": 5,
   "id": "76a02d36-6ea2-4e62-88b4-6c480dd9c04f",
   "metadata": {},
   "outputs": [
    {
     "name": "stdout",
     "output_type": "stream",
     "text": [
      "{'query': 'What is the weather in SF', 'follow_up_questions': None, 'answer': None, 'images': [], 'results': [{'title': 'Weather in San Francisco', 'url': 'https://www.weatherapi.com/', 'content': \"{'location': {'name': 'San Francisco', 'region': 'California', 'country': 'United States of America', 'lat': 37.775, 'lon': -122.4183, 'tz_id': 'America/Los_Angeles', 'localtime_epoch': 1756662473, 'localtime': '2025-08-31 10:47'}, 'current': {'last_updated_epoch': 1756662300, 'last_updated': '2025-08-31 10:45', 'temp_c': 22.2, 'temp_f': 72.0, 'is_day': 1, 'condition': {'text': 'Cloudy', 'icon': '//cdn.weatherapi.com/weather/64x64/day/119.png', 'code': 1006}, 'wind_mph': 4.0, 'wind_kph': 6.5, 'wind_degree': 254, 'wind_dir': 'WSW', 'pressure_mb': 1014.0, 'pressure_in': 29.95, 'precip_mm': 0.0, 'precip_in': 0.0, 'humidity': 66, 'cloud': 25, 'feelslike_c': 24.7, 'feelslike_f': 76.4, 'windchill_c': 14.2, 'windchill_f': 57.5, 'heatindex_c': 14.4, 'heatindex_f': 58.0, 'dewpoint_c': 12.9, 'dewpoint_f': 55.2, 'vis_km': 16.0, 'vis_miles': 9.0, 'uv': 3.1, 'gust_mph': 7.2, 'gust_kph': 11.6}}\", 'score': 0.9543799, 'raw_content': None}, {'url': 'https://weathershogun.com/weather/usa/ca/san-francisco/480/august/2025-08-31', 'title': 'Sunday, August 31, 2025. San Francisco, CA - Weather Forecast', 'content': \"Sunday, August 31, 2025. San Francisco, CA - Weather Forecast  San Francisco, CA Image 1: WeatherShogun.com HomeContactBrowse StatesPrivacy PolicyTerms and Conditions °F)°C) TodayTomorrowHourly7 days30 daysAugust San Francisco, California Weather:  Sunday, August 31, 2025 Day 77° Night 57° Precipitation 0 % Wind 13 mph UV Index (0 - 11+)11 Monday *   Hourly *   Today *   Current Air Quality *   Hourly Air Quality Forecast *   7 days *   30 days Weather Forecast History Last Year's Weather on This Day (August 31, 2024) ### Day 66° ### Night 57° #### Wind 11 mph #### UV Index #### Precipitation Please note that while we strive for accuracy, the information provided may not always be correct. Use at your own risk. © Copyright by WeatherShogun.com\", 'score': 0.9502313, 'raw_content': None}], 'response_time': 1.61, 'request_id': 'cb9fd990-0a0b-444b-8933-53bce22ebe1e'}\n"
     ]
    }
   ],
   "source": [
    "from langchain_tavily import TavilySearch\n",
    "\n",
    "search = TavilySearch(max_results=2)\n",
    "search_results = search.invoke(\"What is the weather in SF\")\n",
    "print(search_results)\n",
    "# If we want, we can create other tools.\n",
    "# Once we have all the tools we want, we can put them in a list that we will reference later.\n",
    "tools = [search]"
   ]
  },
  {
   "cell_type": "markdown",
   "id": "ecbc86d8",
   "metadata": {},
   "source": [
    "**TIP:**\n",
    "\n",
    "In many applications, you may want to define custom tools. LangChain supports custom\n",
    "tool creation via Python functions and other means. Refer to the\n",
    "[How to create tools](/docs/how_to/custom_tools/) guide for details.\n"
   ]
  },
  {
   "cell_type": "markdown",
   "id": "e00068b0",
   "metadata": {},
   "source": [
    "## Using Language Models\n",
    "\n",
    "Next, let's learn how to use a language model to call tools. LangChain supports many different language models that you can use interchangably - select the one you want to use below!\n"
   ]
  },
  {
   "cell_type": "code",
   "execution_count": 6,
   "id": "69185491",
   "metadata": {},
   "outputs": [],
   "source": [
    "from langchain_anthropic import ChatAnthropic\n",
    "\n",
    "model = ChatAnthropic(model=\"claude-3-5-sonnet-latest\")"
   ]
  },
  {
   "cell_type": "markdown",
   "id": "642ed8bf",
   "metadata": {},
   "source": [
    "You can call the language model by passing in a list of messages. By default, the response is a `content` string."
   ]
  },
  {
   "cell_type": "code",
   "execution_count": 7,
   "id": "c96c960b",
   "metadata": {},
   "outputs": [
    {
     "data": {
      "text/plain": [
       "'Hello! How can I help you today?'"
      ]
     },
     "execution_count": 7,
     "metadata": {},
     "output_type": "execute_result"
    }
   ],
   "source": [
    "query = \"Hi!\"\n",
    "response = model.invoke([{\"role\": \"user\", \"content\": query}])\n",
    "response.text()"
   ]
  },
  {
   "cell_type": "markdown",
   "id": "47bf8210",
   "metadata": {},
   "source": [
    "We can now see what it is like to enable this model to do tool calling. In order to enable that we use `.bind_tools` to give the language model knowledge of these tools"
   ]
  },
  {
   "cell_type": "code",
   "execution_count": 8,
   "id": "ba692a74",
   "metadata": {},
   "outputs": [],
   "source": [
    "model_with_tools = model.bind_tools(tools)"
   ]
  },
  {
   "cell_type": "markdown",
   "id": "fd920b69",
   "metadata": {},
   "source": [
    "We can now call the model. Let's first call it with a normal message, and see how it responds. We can look at both the `content` field as well as the `tool_calls` field."
   ]
  },
  {
   "cell_type": "code",
   "execution_count": 9,
   "id": "b6a7e925",
   "metadata": {},
   "outputs": [
    {
     "name": "stdout",
     "output_type": "stream",
     "text": [
      "Message content: Hello! I'm here to help you search for information using the Tavily search engine. What would you like to know about? Feel free to ask any question or request information on any topic, and I'll help you find accurate and relevant results.\n",
      "\n",
      "Tool calls: []\n"
     ]
    }
   ],
   "source": [
    "query = \"Hi!\"\n",
    "response = model_with_tools.invoke([{\"role\": \"user\", \"content\": query}])\n",
    "\n",
    "print(f\"Message content: {response.text()}\\n\")\n",
    "print(f\"Tool calls: {response.tool_calls}\")"
   ]
  },
  {
   "cell_type": "markdown",
   "id": "e8c81e76",
   "metadata": {},
   "source": [
    "Now, let's try calling it with some input that would expect a tool to be called."
   ]
  },
  {
   "cell_type": "code",
   "execution_count": 10,
   "id": "688b465d",
   "metadata": {},
   "outputs": [
    {
     "name": "stdout",
     "output_type": "stream",
     "text": [
      "Message content: I'll help you search for information about the weather in San Francisco.\n",
      "\n",
      "Tool calls: [{'name': 'tavily_search', 'args': {'query': 'current weather San Francisco'}, 'id': 'toolu_0188DWCy12hVE18fq5B5XtZG', 'type': 'tool_call'}]\n"
     ]
    }
   ],
   "source": [
    "query = \"Search for the weather in SF\"\n",
    "response = model_with_tools.invoke([{\"role\": \"user\", \"content\": query}])\n",
    "\n",
    "print(f\"Message content: {response.text()}\\n\")\n",
    "print(f\"Tool calls: {response.tool_calls}\")"
   ]
  },
  {
   "cell_type": "markdown",
   "id": "83c4bcd3",
   "metadata": {},
   "source": [
    "We can see that there's now no text content, but there is a tool call! It wants us to call the Tavily Search tool.\n",
    "\n",
    "This isn't calling that tool yet - it's just telling us to. In order to actually call it, we'll want to create our agent."
   ]
  },
  {
   "cell_type": "markdown",
   "id": "40ccec80",
   "metadata": {},
   "source": [
    "## Create the agent\n",
    "\n",
    "Now that we have defined the tools and the LLM, we can create the agent. We will be using [LangGraph](/docs/concepts/architecture/#langgraph) to construct the agent. \n",
    "Currently, we are using a high level interface to construct the agent, but the nice thing about LangGraph is that this high-level interface is backed by a low-level, highly controllable API in case you want to modify the agent logic.\n"
   ]
  },
  {
   "cell_type": "markdown",
   "id": "f8014c9d",
   "metadata": {},
   "source": [
    "Now, we can initialize the agent with the LLM and the tools.\n",
    "\n",
    "Note that we are passing in the `model`, not `model_with_tools`. That is because `create_react_agent` will call `.bind_tools` for us under the hood."
   ]
  },
  {
   "cell_type": "code",
   "execution_count": 11,
   "id": "89cf72b4-6046-4b47-8f27-5522d8cb8036",
   "metadata": {},
   "outputs": [],
   "source": [
    "from langgraph.prebuilt import create_react_agent\n",
    "\n",
    "agent_executor = create_react_agent(model, tools)"
   ]
  },
  {
   "cell_type": "markdown",
   "id": "e4df0e06",
   "metadata": {},
   "source": [
    "## Run the agent\n",
    "\n",
    "We can now run the agent with a few queries! Note that for now, these are all **stateless** queries (it won't remember previous interactions). Note that the agent will return the **final** state at the end of the interaction (which includes any inputs, we will see later on how to get only the outputs).\n",
    "\n",
    "First up, let's see how it responds when there's no need to call a tool:"
   ]
  },
  {
   "cell_type": "code",
   "execution_count": 12,
   "id": "114ba50d",
   "metadata": {},
   "outputs": [
    {
     "name": "stdout",
     "output_type": "stream",
     "text": [
      "================================\u001b[1m Human Message \u001b[0m=================================\n",
      "\n",
      "Hi!\n",
      "==================================\u001b[1m Ai Message \u001b[0m==================================\n",
      "\n",
      "Hello! I'm here to help you. Since you haven't asked a specific question or made a request yet, I'm ready to assist you with any questions you might have. I have access to a powerful search tool that can help find accurate and up-to-date information on various topics. \n",
      "\n",
      "What would you like to know about?\n"
     ]
    }
   ],
   "source": [
    "input_message = {\"role\": \"user\", \"content\": \"Hi!\"}\n",
    "response = agent_executor.invoke({\"messages\": [input_message]})\n",
    "\n",
    "for message in response[\"messages\"]:\n",
    "    message.pretty_print()"
   ]
  },
  {
   "cell_type": "markdown",
   "id": "71493a42",
   "metadata": {},
   "source": [
    "In order to see exactly what is happening under the hood (and to make sure it's not calling a tool) we can take a look at the [LangSmith trace](https://smith.langchain.com/public/28311faa-e135-4d6a-ab6b-caecf6482aaa/r)\n",
    "\n",
    "Let's now try it out on an example where it should be invoking the tool"
   ]
  },
  {
   "cell_type": "code",
   "execution_count": 13,
   "id": "77c2f769",
   "metadata": {},
   "outputs": [
    {
     "name": "stdout",
     "output_type": "stream",
     "text": [
      "================================\u001b[1m Human Message \u001b[0m=================================\n",
      "\n",
      "Search for the weather in SF\n",
      "==================================\u001b[1m Ai Message \u001b[0m==================================\n",
      "\n",
      "[{'text': \"I'll help you search for current weather information in San Francisco. Let me use the search engine to find accurate weather data.\", 'type': 'text'}, {'id': 'toolu_01SphJsQYfJm8MT4cWqrwAYL', 'input': {'query': 'current weather San Francisco'}, 'name': 'tavily_search', 'type': 'tool_use'}]\n",
      "Tool Calls:\n",
      "  tavily_search (toolu_01SphJsQYfJm8MT4cWqrwAYL)\n",
      " Call ID: toolu_01SphJsQYfJm8MT4cWqrwAYL\n",
      "  Args:\n",
      "    query: current weather San Francisco\n",
      "=================================\u001b[1m Tool Message \u001b[0m=================================\n",
      "Name: tavily_search\n",
      "\n",
      "{\"query\": \"current weather San Francisco\", \"follow_up_questions\": null, \"answer\": null, \"images\": [], \"results\": [{\"title\": \"Weather in San Francisco\", \"url\": \"https://www.weatherapi.com/\", \"content\": \"{'location': {'name': 'San Francisco', 'region': 'California', 'country': 'United States of America', 'lat': 37.775, 'lon': -122.4183, 'tz_id': 'America/Los_Angeles', 'localtime_epoch': 1756662473, 'localtime': '2025-08-31 10:47'}, 'current': {'last_updated_epoch': 1756662300, 'last_updated': '2025-08-31 10:45', 'temp_c': 22.2, 'temp_f': 72.0, 'is_day': 1, 'condition': {'text': 'Cloudy', 'icon': '//cdn.weatherapi.com/weather/64x64/day/119.png', 'code': 1006}, 'wind_mph': 4.0, 'wind_kph': 6.5, 'wind_degree': 254, 'wind_dir': 'WSW', 'pressure_mb': 1014.0, 'pressure_in': 29.95, 'precip_mm': 0.0, 'precip_in': 0.0, 'humidity': 66, 'cloud': 25, 'feelslike_c': 24.7, 'feelslike_f': 76.4, 'windchill_c': 14.2, 'windchill_f': 57.5, 'heatindex_c': 14.4, 'heatindex_f': 58.0, 'dewpoint_c': 12.9, 'dewpoint_f': 55.2, 'vis_km': 16.0, 'vis_miles': 9.0, 'uv': 3.1, 'gust_mph': 7.2, 'gust_kph': 11.6}}\", \"score\": 0.961759, \"raw_content\": null}, {\"url\": \"https://www.weatherbug.com/weather-forecast/now/san-francisco-ca-94103\", \"title\": \"San Francisco, CA | Weather Forecasts Now, Live Radar Maps ...\", \"content\": \"Today's Weather - San Francisco, CA. August 31, 2025 5:21 AM. Exploratorium. 64°. Feels Like 64°. Hi -- Lo 60°F. Clear. Live Radar. Weather Details.\", \"score\": 0.9304142, \"raw_content\": null}], \"response_time\": 1.97, \"request_id\": \"1f15c632-8ad8-48c1-a9fb-2917b23d5e65\"}\n",
      "==================================\u001b[1m Ai Message \u001b[0m==================================\n",
      "\n",
      "Based on the search results, here's the current weather in San Francisco:\n",
      "- Temperature: 72°F (22.2°C)\n",
      "- Conditions: Cloudy\n",
      "- Wind: 4 mph from WSW (West-Southwest)\n",
      "- Humidity: 66%\n",
      "- Feels like: 76.4°F (24.7°C)\n",
      "- Visibility: 9 miles\n",
      "\n",
      "The weather is generally mild and cloudy, which is typical for San Francisco. The moderate temperature and light winds make for comfortable conditions.\n"
     ]
    }
   ],
   "source": [
    "input_message = {\"role\": \"user\", \"content\": \"Search for the weather in SF\"}\n",
    "response = agent_executor.invoke({\"messages\": [input_message]})\n",
    "\n",
    "for message in response[\"messages\"]:\n",
    "    message.pretty_print()"
   ]
  },
  {
   "cell_type": "markdown",
   "id": "c174f838",
   "metadata": {},
   "source": [
    "We can check out the [LangSmith trace](https://smith.langchain.com/public/f520839d-cd4d-4495-8764-e32b548e235d/r) to make sure it's calling the search tool effectively."
   ]
  },
  {
   "cell_type": "markdown",
   "id": "8f6ca7e4",
   "metadata": {},
   "source": [
    "## Streaming Messages\n",
    "\n",
    "We've seen how the agent can be called with `.invoke` to get  a final response. If the agent executes multiple steps, this may take a while. To show intermediate progress, we can stream back messages as they occur."
   ]
  },
  {
   "cell_type": "code",
   "execution_count": 14,
   "id": "bd93812b-2350-4d7f-9643-34c753503754",
   "metadata": {},
   "outputs": [
    {
     "name": "stdout",
     "output_type": "stream",
     "text": [
      "================================\u001b[1m Human Message \u001b[0m=================================\n",
      "\n",
      "Search for the weather in SF\n",
      "==================================\u001b[1m Ai Message \u001b[0m==================================\n",
      "\n",
      "[{'text': \"I'll help you search for information about the weather in San Francisco.\", 'type': 'text'}, {'id': 'toolu_017ojrPZmHsH2KSERqLz4AyF', 'input': {'query': 'current weather San Francisco SF'}, 'name': 'tavily_search', 'type': 'tool_use'}]\n",
      "Tool Calls:\n",
      "  tavily_search (toolu_017ojrPZmHsH2KSERqLz4AyF)\n",
      " Call ID: toolu_017ojrPZmHsH2KSERqLz4AyF\n",
      "  Args:\n",
      "    query: current weather San Francisco SF\n",
      "=================================\u001b[1m Tool Message \u001b[0m=================================\n",
      "Name: tavily_search\n",
      "\n",
      "{\"query\": \"current weather San Francisco SF\", \"follow_up_questions\": null, \"answer\": null, \"images\": [], \"results\": [{\"title\": \"Weather in San Francisco, SF\", \"url\": \"https://www.weatherapi.com/\", \"content\": \"{'location': {'name': 'Colonia San Francisco (San Francisco)', 'region': 'Zacatecas', 'country': 'Mexico', 'lat': 22.3036, 'lon': -101.8206, 'tz_id': 'America/Mexico_City', 'localtime_epoch': 1756662307, 'localtime': '2025-08-31 11:45'}, 'current': {'last_updated_epoch': 1756662300, 'last_updated': '2025-08-31 11:45', 'temp_c': 24.0, 'temp_f': 75.2, 'is_day': 1, 'condition': {'text': 'Cloudy', 'icon': '//cdn.weatherapi.com/weather/64x64/day/119.png', 'code': 1006}, 'wind_mph': 9.8, 'wind_kph': 15.8, 'wind_degree': 98, 'wind_dir': 'E', 'pressure_mb': 1025.0, 'pressure_in': 30.28, 'precip_mm': 0.0, 'precip_in': 0.0, 'humidity': 50, 'cloud': 25, 'feelslike_c': 26.4, 'feelslike_f': 79.5, 'windchill_c': 15.9, 'windchill_f': 60.7, 'heatindex_c': 16.4, 'heatindex_f': 61.6, 'dewpoint_c': 12.5, 'dewpoint_f': 54.5, 'vis_km': 16.0, 'vis_miles': 9.0, 'uv': 10.3, 'gust_mph': 11.3, 'gust_kph': 18.2}}\", \"score\": 0.9851431, \"raw_content\": null}, {\"url\": \"https://weathershogun.com/weather/usa/ca/san-francisco/480/august/2025-08-31\", \"title\": \"Sunday, August 31, 2025. San Francisco, CA - Weather Forecast\", \"content\": \"San Francisco, California Weather: Sunday, August 31, 2025. Rainy weather, precipitation in the form of water droplets falling from the sky.\", \"score\": 0.9274752, \"raw_content\": null}], \"response_time\": 1.99, \"request_id\": \"c5616df6-3358-4f36-b0e8-35fc1f1b6803\"}\n",
      "==================================\u001b[1m Ai Message \u001b[0m==================================\n",
      "\n",
      "[{'text': 'Let me search with a more specific query to get current weather information.', 'type': 'text'}, {'id': 'toolu_01HQb3x4F4MNDeS2SDZUMHDw', 'input': {'query': 'current weather forecast San Francisco California today', 'time_range': 'day'}, 'name': 'tavily_search', 'type': 'tool_use'}]\n",
      "Tool Calls:\n",
      "  tavily_search (toolu_01HQb3x4F4MNDeS2SDZUMHDw)\n",
      " Call ID: toolu_01HQb3x4F4MNDeS2SDZUMHDw\n",
      "  Args:\n",
      "    query: current weather forecast San Francisco California today\n",
      "    time_range: day\n",
      "=================================\u001b[1m Tool Message \u001b[0m=================================\n",
      "Name: tavily_search\n",
      "\n",
      "{\"query\": \"current weather forecast San Francisco California today\", \"follow_up_questions\": null, \"answer\": null, \"images\": [], \"results\": [{\"title\": \"Weather in San Francisco, California\", \"url\": \"https://www.weatherapi.com/\", \"content\": \"{'location': {'name': 'San Francisco', 'region': 'California', 'country': 'United States of America', 'lat': 37.775, 'lon': -122.4183, 'tz_id': 'America/Los_Angeles', 'localtime_epoch': 1756661979, 'localtime': '2025-08-31 10:39'}, 'current': {'last_updated_epoch': 1756661400, 'last_updated': '2025-08-31 10:30', 'temp_c': 22.2, 'temp_f': 72.0, 'is_day': 1, 'condition': {'text': 'Cloudy', 'icon': '//cdn.weatherapi.com/weather/64x64/day/119.png', 'code': 1006}, 'wind_mph': 4.0, 'wind_kph': 6.5, 'wind_degree': 254, 'wind_dir': 'WSW', 'pressure_mb': 1014.0, 'pressure_in': 29.95, 'precip_mm': 0.0, 'precip_in': 0.0, 'humidity': 66, 'cloud': 25, 'feelslike_c': 24.7, 'feelslike_f': 76.4, 'windchill_c': 14.2, 'windchill_f': 57.5, 'heatindex_c': 14.4, 'heatindex_f': 58.0, 'dewpoint_c': 12.9, 'dewpoint_f': 55.2, 'vis_km': 16.0, 'vis_miles': 9.0, 'uv': 3.1, 'gust_mph': 7.2, 'gust_kph': 11.6}}\", \"score\": 0.8389434, \"raw_content\": null}, {\"url\": \"http://www.weatherstreet.com/weather-forecast/San-Francisco-CA-94118.htm\", \"title\": \"SAN FRANCISCO, CA 94118 Weather Forecast\", \"content\": \"Missing: 31/08/2025\", \"score\": 0.79041743, \"raw_content\": null}], \"response_time\": 2.16, \"request_id\": \"65c237ac-3563-4dc7-9c41-0330eb00ed20\"}\n",
      "==================================\u001b[1m Ai Message \u001b[0m==================================\n",
      "\n",
      "Based on the search results, here's the current weather in San Francisco:\n",
      "- Temperature: 72°F (22.2°C)\n",
      "- Conditions: Cloudy\n",
      "- Humidity: 66%\n",
      "- Wind: 4 mph WSW (West-Southwest)\n",
      "- Visibility: 9 miles\n",
      "- Feels like: 76.4°F (24.7°C)\n",
      "\n",
      "The weather is currently cloudy with mild temperatures and light winds, which is typical for San Francisco.\n"
     ]
    }
   ],
   "source": [
    "for step in agent_executor.stream({\"messages\": [input_message]}, stream_mode=\"values\"):\n",
    "    step[\"messages\"][-1].pretty_print()"
   ]
  },
  {
   "cell_type": "markdown",
   "id": "c72b3043",
   "metadata": {},
   "source": [
    "## Streaming tokens\n",
    "\n",
    "In addition to streaming back messages, it is also useful to stream back tokens.\n",
    "We can do this by specifying `stream_mode=\"messages\"`.\n",
    "\n",
    "\n",
    "**NOTE:**\n",
    "\n",
    "Below we use `message.text()`, which requires `langchain-core>=0.3.37`.\n"
   ]
  },
  {
   "cell_type": "code",
   "execution_count": 15,
   "id": "63198158-380e-43a3-a2ad-d4288949c1d4",
   "metadata": {},
   "outputs": [
    {
     "name": "stdout",
     "output_type": "stream",
     "text": [
      "I|'ll help you search for information| about the weather in San| Francisco.|Base|d on the search results,| here|'s the| current weather in| San Francisco:|\n",
      "- Temperature|: 64|°F (feels| like 64°F|)\n",
      "- Condition|: Clear|\n",
      "- Low| temperature expecte|d: 60°F|\n",
      "-| Humidity: 66%|\n",
      "- Wind: WS|W at 4.|0 mph|\n",
      "- Visibility|: 9| |miles\n",
      "\n",
      "The| weather appears| to be quite| pleasant with| clear skies and mil|d temperatures,| which is typical for San Francisco|.|"
     ]
    }
   ],
   "source": [
    "for step, metadata in agent_executor.stream(\n",
    "    {\"messages\": [input_message]}, stream_mode=\"messages\"\n",
    "):\n",
    "    if metadata[\"langgraph_node\"] == \"agent\" and (text := step.text()):\n",
    "        print(text, end=\"|\")"
   ]
  },
  {
   "cell_type": "markdown",
   "id": "022cbc8a",
   "metadata": {},
   "source": [
    "## Adding in memory\n",
    "\n",
    "As mentioned earlier, this agent is stateless. This means it does not remember previous interactions. To give it memory we need to pass in a checkpointer. When passing in a checkpointer, we also have to pass in a `thread_id` when invoking the agent (so it knows which thread/conversation to resume from)."
   ]
  },
  {
   "cell_type": "code",
   "execution_count": 16,
   "id": "c4073e35",
   "metadata": {},
   "outputs": [],
   "source": [
    "from langgraph.checkpoint.memory import MemorySaver\n",
    "\n",
    "memory = MemorySaver()"
   ]
  },
  {
   "cell_type": "code",
   "execution_count": 17,
   "id": "e64a944e-f9ac-43cf-903c-d3d28d765377",
   "metadata": {},
   "outputs": [],
   "source": [
    "agent_executor = create_react_agent(model, tools, checkpointer=memory)\n",
    "\n",
    "config = {\"configurable\": {\"thread_id\": \"abc123\"}}"
   ]
  },
  {
   "cell_type": "code",
   "execution_count": 18,
   "id": "a13462d0-2d02-4474-921e-15a1ba1fa274",
   "metadata": {},
   "outputs": [
    {
     "name": "stdout",
     "output_type": "stream",
     "text": [
      "================================\u001b[1m Human Message \u001b[0m=================================\n",
      "\n",
      "Hi, I'm Bob!\n",
      "==================================\u001b[1m Ai Message \u001b[0m==================================\n",
      "\n",
      "Hello Bob! I'm here to help you! Since you've just introduced yourself but haven't asked a specific question yet, I'm ready to assist you with any questions you might have. I have access to a powerful search tool that can help find accurate and up-to-date information on various topics. What would you like to know about?\n"
     ]
    }
   ],
   "source": [
    "input_message = {\"role\": \"user\", \"content\": \"Hi, I'm Bob!\"}\n",
    "for step in agent_executor.stream(\n",
    "    {\"messages\": [input_message]}, config, stream_mode=\"values\"\n",
    "):\n",
    "    step[\"messages\"][-1].pretty_print()"
   ]
  },
  {
   "cell_type": "code",
   "execution_count": 19,
   "id": "56d8028b-5dbc-40b2-86f5-ed60631d86a3",
   "metadata": {},
   "outputs": [
    {
     "name": "stdout",
     "output_type": "stream",
     "text": [
      "================================\u001b[1m Human Message \u001b[0m=================================\n",
      "\n",
      "What's my name?\n",
      "==================================\u001b[1m Ai Message \u001b[0m==================================\n",
      "\n",
      "You told me your name is Bob!\n"
     ]
    }
   ],
   "source": [
    "input_message = {\"role\": \"user\", \"content\": \"What's my name?\"}\n",
    "for step in agent_executor.stream(\n",
    "    {\"messages\": [input_message]}, config, stream_mode=\"values\"\n",
    "):\n",
    "    step[\"messages\"][-1].pretty_print()"
   ]
  },
  {
   "cell_type": "markdown",
   "id": "bda99754-0a11-4447-b408-e8db8f2e3517",
   "metadata": {},
   "source": [
    "Example [LangSmith trace](https://smith.langchain.com/public/fa73960b-0f7d-4910-b73d-757a12f33b2b/r)"
   ]
  },
  {
   "cell_type": "markdown",
   "id": "ae908088",
   "metadata": {},
   "source": [
    "If you want to start a new conversation, all you have to do is change the `thread_id` used"
   ]
  },
  {
   "cell_type": "code",
   "execution_count": 23,
   "id": "24460239",
   "metadata": {},
   "outputs": [
    {
     "name": "stdout",
     "output_type": "stream",
     "text": [
      "================================\u001b[1m Human Message \u001b[0m=================================\n",
      "\n",
      "What's my name?\n",
      "==================================\u001b[1m Ai Message \u001b[0m==================================\n",
      "\n",
      "I apologize, but I don't have access to any tools that would tell me your name. I can only assist you with searching for publicly available information using the tavily_search function. I don't have access to personal information about users. If you'd like to tell me your name, I'll be happy to address you by it.\n"
     ]
    }
   ],
   "source": [
    "# highlight-next-line\n",
    "config = {\"configurable\": {\"thread_id\": \"xyz123\"}}\n",
    "\n",
    "input_message = {\"role\": \"user\", \"content\": \"What's my name?\"}\n",
    "for step in agent_executor.stream(\n",
    "    {\"messages\": [input_message]}, config, stream_mode=\"values\"\n",
    "):\n",
    "    step[\"messages\"][-1].pretty_print()"
   ]
  },
  {
   "cell_type": "markdown",
   "id": "c029798f",
   "metadata": {},
   "source": [
    "## Conclusion\n",
    "\n",
    "That's a wrap! In this quick start we covered how to create a simple agent. \n",
    "We've then shown how to stream back a response - not only with the intermediate steps, but also tokens!\n",
    "We've also added in memory so you can have a conversation with them.\n",
    "Agents are a complex topic with lots to learn! \n",
    "\n",
    "For more information on Agents, please check out the [LangGraph](/docs/concepts/architecture/#langgraph) documentation. This has it's own set of concepts, tutorials, and how-to guides."
   ]
  }
 ],
 "metadata": {
  "kernelspec": {
   "display_name": ".venv",
   "language": "python",
   "name": "python3"
  },
  "language_info": {
   "codemirror_mode": {
    "name": "ipython",
    "version": 3
   },
   "file_extension": ".py",
   "mimetype": "text/x-python",
   "name": "python",
   "nbconvert_exporter": "python",
   "pygments_lexer": "ipython3",
   "version": "3.12.10"
  }
 },
 "nbformat": 4,
 "nbformat_minor": 5
}
