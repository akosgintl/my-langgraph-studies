{
 "cells": [
  {
   "cell_type": "markdown",
   "id": "08a1785b",
   "metadata": {},
   "source": [
    "# 6. Time travel\n",
    "\n",
    "In a typical chatbot workflow, the user interacts with the bot one or more times to accomplish a task. [Memory](/oss/3-add-memory) and a [human-in-the-loop](/oss/4-human-in-the-loop) enable checkpoints in the graph state and control future responses.\n",
    "\n",
    "What if you want a user to be able to start from a previous response and explore a different outcome? Or what if you want users to be able to rewind your chatbot's work to fix mistakes or try a different strategy, something that is common in applications like autonomous software engineers?\n",
    "\n",
    "You can create these types of experiences using LangGraph's built-in **time travel** functionality.\n",
    "\n",
    "This tutorial builds on [Customize state](/oss/5-customize-state).\n",
    "\n",
    "## 1. Rewind your graph\n",
    "\n",
    "Rewind your graph by fetching a checkpoint using the graph's `get_state_history` method. You can then resume execution at this previous point in time.\n"
   ]
  },
  {
   "cell_type": "code",
   "execution_count": 28,
   "id": "623bfeec",
   "metadata": {},
   "outputs": [],
   "source": [
    "import os\n",
    "import getpass\n",
    "from langchain.chat_models import init_chat_model\n",
    "\n",
    "# Function to securely get OpenAI API key\n",
    "def get_openai_api_key():\n",
    "    \"\"\"Securely prompt user for OpenAI API key\"\"\"\n",
    "    # First try to get from environment variable\n",
    "    api_key = os.environ.get(\"OPENAI_API_KEY\")\n",
    "    \n",
    "    if not api_key:\n",
    "        print(\"OpenAI API key not found in environment variables.\")\n",
    "        print(\"Please enter your OpenAI API key:\")\n",
    "        print(\"Note: Your input will be hidden for security.\")\n",
    "        api_key = getpass.getpass(\"OpenAI API Key: \")\n",
    "        \n",
    "        if api_key:\n",
    "            # Set it for this session only\n",
    "            os.environ[\"OPENAI_API_KEY\"] = api_key\n",
    "            print(\"API key set for this session.\")\n",
    "        else:\n",
    "            raise ValueError(\"OpenAI API key is required to run this chatbot.\")\n",
    "    \n",
    "    return api_key\n",
    "\n",
    "# Get the API key securely\n",
    "api_key = get_openai_api_key()\n",
    "\n",
    "# Initialize the chat model\n",
    "llm = init_chat_model(\"openai:gpt-4.1\")"
   ]
  },
  {
   "cell_type": "code",
   "execution_count": 29,
   "id": "8babbcab",
   "metadata": {},
   "outputs": [],
   "source": [
    "from typing import Annotated\n",
    "\n",
    "from langchain_tavily import TavilySearch\n",
    "from langchain_core.messages import BaseMessage\n",
    "from typing_extensions import TypedDict\n",
    "\n",
    "from langgraph.checkpoint.memory import InMemorySaver\n",
    "from langgraph.graph import StateGraph, START, END\n",
    "from langgraph.graph.message import add_messages\n",
    "from langgraph.prebuilt import ToolNode, tools_condition\n",
    "\n",
    "class State(TypedDict):\n",
    "    messages: Annotated[list, add_messages]\n",
    "\n",
    "graph_builder = StateGraph(State)\n",
    "\n",
    "tool = TavilySearch(max_results=2)\n",
    "tools = [tool]\n",
    "llm_with_tools = llm.bind_tools(tools)\n",
    "\n",
    "def chatbot(state: State):\n",
    "    return {\"messages\": [llm_with_tools.invoke(state[\"messages\"])]}\n",
    "\n",
    "graph_builder.add_node(\"chatbot\", chatbot)\n",
    "\n",
    "tool_node = ToolNode(tools=[tool])\n",
    "graph_builder.add_node(\"tools\", tool_node)\n",
    "\n",
    "graph_builder.add_conditional_edges(\n",
    "    \"chatbot\",\n",
    "    tools_condition,\n",
    ")\n",
    "graph_builder.add_edge(\"tools\", \"chatbot\")\n",
    "graph_builder.add_edge(START, \"chatbot\")\n",
    "\n",
    "memory = InMemorySaver()\n",
    "graph = graph_builder.compile(checkpointer=memory)"
   ]
  },
  {
   "cell_type": "markdown",
   "id": "c0f95b89",
   "metadata": {},
   "source": [
    "## 2. Visualize the graph\n",
    "\n",
    "Visualizing the graph, you get the same layout as before – just with the added tool!"
   ]
  },
  {
   "cell_type": "code",
   "execution_count": 30,
   "id": "1d4ef48f",
   "metadata": {},
   "outputs": [
    {
     "data": {
      "image/png": "[encoded data removed]",
      "text/plain": [
       "<IPython.core.display.Image object>"
      ]
     },
     "metadata": {},
     "output_type": "display_data"
    }
   ],
   "source": [
    "from IPython.display import Image, display\n",
    "\n",
    "try:\n",
    "    display(Image(graph.get_graph().draw_mermaid_png()))\n",
    "except Exception:\n",
    "    # This requires some extra dependencies and is optional\n",
    "    pass"
   ]
  },
  {
   "cell_type": "markdown",
   "id": "c09d0c55",
   "metadata": {},
   "source": [
    "## 3. Add steps\n",
    "\n",
    "Add steps to your graph. Every step will be checkpointed in its state history:\n"
   ]
  },
  {
   "cell_type": "code",
   "execution_count": 31,
   "id": "baf637fc",
   "metadata": {},
   "outputs": [
    {
     "name": "stdout",
     "output_type": "stream",
     "text": [
      "================================\u001b[1m Human Message \u001b[0m=================================\n",
      "\n",
      "I'm learning LangGraph.js. Could you do some research on it for me?\n",
      "==================================\u001b[1m Ai Message \u001b[0m==================================\n",
      "Tool Calls:\n",
      "  tavily_search (call_eNarX57yPSOIIASZFGDp8wYv)\n",
      " Call ID: call_eNarX57yPSOIIASZFGDp8wYv\n",
      "  Args:\n",
      "    query: LangGraph.js overview, documentation, and tutorials\n",
      "    search_depth: advanced\n",
      "=================================\u001b[1m Tool Message \u001b[0m=================================\n",
      "Name: tavily_search\n",
      "\n",
      "{\"query\": \"LangGraph.js overview, documentation, and tutorials\", \"follow_up_questions\": null, \"answer\": null, \"images\": [], \"results\": [{\"url\": \"https://techcommunity.microsoft.com/blog/educatordeveloperblog/an-absolute-beginners-guide-to-langgraph-js/4212496\", \"title\": \"An Absolute Beginner's Guide to LangGraph.js\", \"content\": \"By the end of this guide, you will:\\n\\n## Overview of LangGraph.js\\n\\nLangGraph.js is a JavaScript library designed to simplify the creation and manipulation of complex LLM-based workflows. It particularly shines when creating agentic workflows—systems that use an LLM to decide the course of action based on the current state. It provides an intuitive way to model workflows as graphs composed of nodes and edges, making it easier to manage complex data flows and processes. [...] In this tutorial, we cover the main graph class: `StateGraph`. This contains a user-defined `State` object, passed using the `channels` argument.\\n\\n`StateGraph`\\n`State`\\n`channels`\\n\\nThere are 3 critical concepts in LangGraph.js:\\n\\n`Node`\\n`State`\\n\\nMore simply, nodes are functions that do work, edges are functions that choose what work to do, and the `State` tracks data throughout the workflow.\\n\\n`State`\\n\\nThe official documentation is a great resource. [...] The official documentation is the best resource for understanding LangGraph.js. For a more production-grade example, check out Building ToolLLM With LangGraph.js!\\n\\nAnchit's avatar\\nShare to LinkedIn\\nShare to Facebook\\nShare to X\\nShare to Reddit\\nShare to Blue Sky\\nSubscribe to RSS\\nShare to Email\", \"score\": 0.8409005, \"raw_content\": null}, {\"url\": \"https://langchain-ai.github.io/langgraphjs/tutorials/\", \"title\": \"Tutorials - LangGraph\", \"content\": \"Table of contents\\n\\n   Quick Start\\n   Use cases\\n    \\n       Chatbots\\n       RAG\\n       Multi-Agent Systems\\n       Planning Agents\\n       Reflection & Critique\\n       Evaluation\\n    \\n\\n1.  LangGraph\\n2.  Guides\\n3.  Tutorials\\n\\nTutorials¶\\n==============================================================================================\\n\\nWelcome to the LangGraph.js Tutorials! These notebooks introduce LangGraph through building various language agents and applications. [...] Quick Start¶\\n--------------------------------------------------------------------------------------------------\\n\\nLearn the basics of LangGraph through a comprehensive quick start in which you will build an agent from scratch.\\n\\n   Quick Start\\n   Common Workflows: Overview of the most common workflows using LLMs implemented with LangGraph.\\n   LangGraph Cloud Quick Start: In this tutorial, you will build and deploy an agent to LangGraph Cloud. [...] [ ] \\n    \\n    LangGraph\\n    \\n    LangGraph\\n    \\n       [ ]  Get started\\n        \\n        Get started\\n        \\n           Learn the basics\\n           Deployment\\n        \\n       [ ]  Guides\\n        \\n        Guides\\n        \\n           How-to Guides\\n           Concepts\\n           [ ] \\n            \\n            Tutorials\\n            \\n            Tutorials\\n            \\n               Quick Start\\n               Chatbots\\n               RAG\\n               Agent Architectures\", \"score\": 0.8170061, \"raw_content\": null}], \"response_time\": 4.94, \"request_id\": \"9b6f9cd0-0981-44d0-a922-2c36958c6762\"}\n",
      "==================================\u001b[1m Ai Message \u001b[0m==================================\n",
      "\n",
      "Here's an overview based on current resources about LangGraph.js:\n",
      "\n",
      "What is LangGraph.js?\n",
      "- LangGraph.js is a JavaScript library designed to streamline the creation and management of complex workflows for large language models (LLMs). It excels at agentic workflows, where an LLM can decide the sequence of actions based on the ongoing state.\n",
      "- Workflows are represented as graphs: nodes (which do the work), edges (which determine the next step), and a state object (which tracks data throughout the workflow).\n",
      "- It enables you to model data flows and agent behaviors more intuitively, especially for applications such as chatbots, Retrieval-Augmented Generation (RAG), multi-agent systems, planning agents, reflection, critique, and evaluation.\n",
      "\n",
      "Where to Learn More?\n",
      "- Beginner’s Guide (Microsoft Tech Community): An Absolute Beginner's Guide to LangGraph.js goes over the basics, main concepts, and how to get started with the primary class, StateGraph. It’s targeted at newcomers and explains nodes, state, channels, and practical workflow creation. Read the guide here.\n",
      "- Official Documentation and Tutorials: The LangGraph.js official tutorials page includes quick starts, example workflows, agent building exercises, deployment guides, and use case walkthroughs like chatbots and RAG. The documentation is detailed and a great place to deepen your understanding or find production-grade examples. Explore the tutorials here.\n",
      "\n",
      "Summary:\n",
      "- Key concepts: Node, State, Edges, StateGraph, Channels.\n",
      "- Main use: Building robust, stateful, graph-based LLM workflows in JavaScript/TypeScript environments.\n",
      "\n",
      "Resources:\n",
      "- Microsoft Absolute Beginner’s Guide: https://techcommunity.microsoft.com/blog/educatordeveloperblog/an-absolute-beginners-guide-to-langgraph-js/4212496\n",
      "- Official Tutorials: https://langchain-ai.github.io/langgraphjs/tutorials/\n",
      "\n",
      "Let me know if you’d like a summary of a specific tutorial or a code example!\n"
     ]
    }
   ],
   "source": [
    "config = {\"configurable\": {\"thread_id\": \"1\"}}\n",
    "events = graph.stream(\n",
    "    {\n",
    "        \"messages\": [\n",
    "            {\n",
    "                \"role\": \"user\",\n",
    "                \"content\": (\n",
    "                    \"I'm learning LangGraph.js. \"\n",
    "                    \"Could you do some research on it for me?\"\n",
    "                ),\n",
    "            },\n",
    "        ],\n",
    "    },\n",
    "    config,\n",
    "    stream_mode=\"values\",\n",
    ")\n",
    "for event in events:\n",
    "    if \"messages\" in event:\n",
    "        event[\"messages\"][-1].pretty_print()"
   ]
  },
  {
   "cell_type": "code",
   "execution_count": 32,
   "id": "4bb88112",
   "metadata": {},
   "outputs": [
    {
     "name": "stdout",
     "output_type": "stream",
     "text": [
      "================================\u001b[1m Human Message \u001b[0m=================================\n",
      "\n",
      "Ya that's helpful. Maybe I'll build an network type multi-agent with it!\n",
      "==================================\u001b[1m Ai Message \u001b[0m==================================\n",
      "\n",
      "That’s a great idea! LangGraph.js is particularly well-suited for building networked, multi-agent systems because of its graph-based approach. Here’s why it’s a strong fit for your project:\n",
      "\n",
      "- Each “agent” can be represented as a node with its own logic or personality.\n",
      "- Edges control how and when agents interact, forming a network.\n",
      "- The shared state allows agents to pass information, collaborate, and build context together.\n",
      "\n",
      "If you’re inspired to start, here are some tips and resources:\n",
      "\n",
      "1. Example Use Case: Multi-Agent Systems  \n",
      "The official LangGraph.js tutorials include a section on multi-agent architectures. You can find step-by-step guides and code snippets for setting up agent networks and orchestrating their interactions:  \n",
      "https://langchain-ai.github.io/langgraphjs/tutorials/#multi-agent-systems\n",
      "\n",
      "2. Key Concepts for Multi-Agent Networks  \n",
      "- Use nodes for each agent (with custom functions or prompts).\n",
      "- Edges dictate conversation flows or decision-making logic.\n",
      "- The graph structure makes coordination, parallel conversation, and information sharing natural and scalable.\n",
      "\n",
      "3. Helpful Links  \n",
      "- Multi-Agent Systems Tutorial  \n",
      "- Agent Architectures and Planning Agents Guides\n",
      "\n",
      "Want a starter code example for a multi-agent setup in LangGraph.js? Or an explanation of a particular pattern (like broadcasting, voting, or delegation among agents)? Just let me know!\n"
     ]
    }
   ],
   "source": [
    "events = graph.stream(\n",
    "    {\n",
    "        \"messages\": [\n",
    "            {\n",
    "                \"role\": \"user\",\n",
    "                \"content\": (\n",
    "                    \"Ya that's helpful. Maybe I'll \"\n",
    "                    \"build an network type multi-agent with it!\"\n",
    "                ),\n",
    "            },\n",
    "        ],\n",
    "    },\n",
    "    config,\n",
    "    stream_mode=\"values\",\n",
    ")\n",
    "for event in events:\n",
    "    if \"messages\" in event:\n",
    "        event[\"messages\"][-1].pretty_print()"
   ]
  },
  {
   "cell_type": "markdown",
   "id": "eaa19338",
   "metadata": {},
   "source": [
    "## 4. Replay the full state history\n",
    "\n",
    "Now that you have added steps to the chatbot, you can `replay` the full state history to see everything that occurred.\n"
   ]
  },
  {
   "cell_type": "code",
   "execution_count": 33,
   "id": "73332a59",
   "metadata": {},
   "outputs": [
    {
     "name": "stdout",
     "output_type": "stream",
     "text": [
      "Num Messages:  6 Next:  ()\n",
      "--------------------------------------------------------------------------------\n",
      "Num Messages:  5 Next:  ('chatbot',)\n",
      "--------------------------------------------------------------------------------\n",
      "Num Messages:  4 Next:  ('__start__',)\n",
      "--------------------------------------------------------------------------------\n",
      "Num Messages:  4 Next:  ()\n",
      "--------------------------------------------------------------------------------\n",
      "Num Messages:  3 Next:  ('chatbot',)\n",
      "--------------------------------------------------------------------------------\n",
      "Num Messages:  2 Next:  ('tools',)\n",
      "--------------------------------------------------------------------------------\n",
      "Num Messages:  1 Next:  ('chatbot',)\n",
      "--------------------------------------------------------------------------------\n",
      "Num Messages:  0 Next:  ('__start__',)\n",
      "--------------------------------------------------------------------------------\n"
     ]
    }
   ],
   "source": [
    "to_replay = None\n",
    "for state in graph.get_state_history(config):\n",
    "    print(\"Num Messages: \", len(state.values[\"messages\"]), \"Next: \", state.next)\n",
    "    print(\"-\" * 80)\n",
    "    if len(state.values[\"messages\"]) == 2:\n",
    "        # We are somewhat arbitrarily selecting a specific state based on the number of chat messages in the state.\n",
    "        to_replay = state"
   ]
  },
  {
   "cell_type": "markdown",
   "id": "c0fe30ec",
   "metadata": {},
   "source": [
    "Checkpoints are saved for every step of the graph. This **spans invocations** so you can rewind across a full thread's history.\n",
    "\n",
    "## Resume from a checkpoint\n",
    "\n",
    "Resume from the `to_replay` state, which is after the `chatbot` node in the second graph invocation. Resuming from this point will call the **action** node next.\n"
   ]
  },
  {
   "cell_type": "code",
   "execution_count": 34,
   "id": "91e9c412",
   "metadata": {},
   "outputs": [
    {
     "name": "stdout",
     "output_type": "stream",
     "text": [
      "('tools',)\n",
      "{'configurable': {'thread_id': '1', 'checkpoint_ns': '', 'checkpoint_id': '1f07eb3d-05d2-61d4-8001-f159efed9dec'}}\n"
     ]
    }
   ],
   "source": [
    "print(to_replay.next)\n",
    "print(to_replay.config)"
   ]
  },
  {
   "cell_type": "markdown",
   "id": "b1660d4b",
   "metadata": {},
   "source": [
    "## 5. Load a state from a moment-in-time\n",
    "\n",
    "The checkpoint's `to_replay.config` contains a `checkpoint_id` timestamp. Providing this `checkpoint_id` value tells LangGraph's checkpointer to **load** the state from that moment in time.\n"
   ]
  },
  {
   "cell_type": "code",
   "execution_count": 35,
   "id": "6bd47ea8",
   "metadata": {},
   "outputs": [
    {
     "name": "stdout",
     "output_type": "stream",
     "text": [
      "==================================\u001b[1m Ai Message \u001b[0m==================================\n",
      "Tool Calls:\n",
      "  tavily_search (call_eNarX57yPSOIIASZFGDp8wYv)\n",
      " Call ID: call_eNarX57yPSOIIASZFGDp8wYv\n",
      "  Args:\n",
      "    query: LangGraph.js overview, documentation, and tutorials\n",
      "    search_depth: advanced\n",
      "=================================\u001b[1m Tool Message \u001b[0m=================================\n",
      "Name: tavily_search\n",
      "\n",
      "{\"query\": \"LangGraph.js overview, documentation, and tutorials\", \"follow_up_questions\": null, \"answer\": null, \"images\": [], \"results\": [{\"url\": \"https://techcommunity.microsoft.com/blog/educatordeveloperblog/an-absolute-beginners-guide-to-langgraph-js/4212496\", \"title\": \"An Absolute Beginner's Guide to LangGraph.js\", \"content\": \"By the end of this guide, you will:\\n\\n## Overview of LangGraph.js\\n\\nLangGraph.js is a JavaScript library designed to simplify the creation and manipulation of complex LLM-based workflows. It particularly shines when creating agentic workflows—systems that use an LLM to decide the course of action based on the current state. It provides an intuitive way to model workflows as graphs composed of nodes and edges, making it easier to manage complex data flows and processes. [...] In this tutorial, we cover the main graph class: `StateGraph`. This contains a user-defined `State` object, passed using the `channels` argument.\\n\\n`StateGraph`\\n`State`\\n`channels`\\n\\nThere are 3 critical concepts in LangGraph.js:\\n\\n`Node`\\n`State`\\n\\nMore simply, nodes are functions that do work, edges are functions that choose what work to do, and the `State` tracks data throughout the workflow.\\n\\n`State`\\n\\nThe official documentation is a great resource. [...] The official documentation is the best resource for understanding LangGraph.js. For a more production-grade example, check out Building ToolLLM With LangGraph.js!\\n\\nAnchit's avatar\\nShare to LinkedIn\\nShare to Facebook\\nShare to X\\nShare to Reddit\\nShare to Blue Sky\\nSubscribe to RSS\\nShare to Email\", \"score\": 0.8409005, \"raw_content\": null}, {\"url\": \"https://langchain-ai.github.io/langgraphjs/tutorials/\", \"title\": \"Tutorials - LangGraph\", \"content\": \"Table of contents\\n\\n   Quick Start\\n   Use cases\\n    \\n       Chatbots\\n       RAG\\n       Multi-Agent Systems\\n       Planning Agents\\n       Reflection & Critique\\n       Evaluation\\n    \\n\\n1.  LangGraph\\n2.  Guides\\n3.  Tutorials\\n\\nTutorials¶\\n==============================================================================================\\n\\nWelcome to the LangGraph.js Tutorials! These notebooks introduce LangGraph through building various language agents and applications. [...] Quick Start¶\\n--------------------------------------------------------------------------------------------------\\n\\nLearn the basics of LangGraph through a comprehensive quick start in which you will build an agent from scratch.\\n\\n   Quick Start\\n   Common Workflows: Overview of the most common workflows using LLMs implemented with LangGraph.\\n   LangGraph Cloud Quick Start: In this tutorial, you will build and deploy an agent to LangGraph Cloud. [...] [ ] \\n    \\n    LangGraph\\n    \\n    LangGraph\\n    \\n       [ ]  Get started\\n        \\n        Get started\\n        \\n           Learn the basics\\n           Deployment\\n        \\n       [ ]  Guides\\n        \\n        Guides\\n        \\n           How-to Guides\\n           Concepts\\n           [ ] \\n            \\n            Tutorials\\n            \\n            Tutorials\\n            \\n               Quick Start\\n               Chatbots\\n               RAG\\n               Agent Architectures\", \"score\": 0.8170061, \"raw_content\": null}], \"response_time\": 1.12, \"request_id\": \"a230f139-700d-4ca9-a420-daad37da3c14\"}\n",
      "==================================\u001b[1m Ai Message \u001b[0m==================================\n",
      "\n",
      "Here's an overview of LangGraph.js and some helpful resources for your learning:\n",
      "\n",
      "Overview:\n",
      "- LangGraph.js is a JavaScript library designed to make it easier to create and manage complex Large Language Model (LLM)-based workflows. \n",
      "- It is particularly useful for building agentic workflows—systems where an LLM determines the next action based on the current context or state.\n",
      "- The core concept is modeling workflows as graphs made of nodes and edges: \n",
      "  - Nodes are functions that perform tasks.\n",
      "  - Edges determine which task (node) to perform next.\n",
      "  - State tracks data as it moves through the graph.\n",
      "\n",
      "Key Concepts:\n",
      "- Node: A function that does work (e.g., calling an API, running an LLM prompt).\n",
      "- Edge: Logic that decides the next node/task based on the current state.\n",
      "- State: Shared data that persists and changes throughout the workflow.\n",
      "\n",
      "Resources:\n",
      "1. Absolute Beginner's Guide: A beginner-friendly blog post explaining core ideas and providing a practical intro.\n",
      "   - Read it here: Absolute Beginner’s Guide to LangGraph.js (Microsoft Tech Community)\n",
      "\n",
      "2. Official Tutorials and Documentation: In-depth guides, quick starts, and production-ready examples, covering agents, chatbots, retrieval-augmented generation (RAG), planning agents, and more.\n",
      "   - Tutorials and Docs: LangGraph.js Official Tutorials\n",
      "\n",
      "If you'd like specific hands-on tutorials or examples (e.g., building a chatbot or using RAG with LangGraph.js), just let me know!\n"
     ]
    }
   ],
   "source": [
    "# The `checkpoint_id` in the `to_replay.config` corresponds to a state we've persisted to our checkpointer.\n",
    "for event in graph.stream(None, to_replay.config, stream_mode=\"values\"):\n",
    "    if \"messages\" in event:\n",
    "        event[\"messages\"][-1].pretty_print()"
   ]
  },
  {
   "cell_type": "markdown",
   "id": "88c0f1fa",
   "metadata": {},
   "source": [
    "The graph resumed execution from the `tools` node. You can tell this is the case since the first value printed above is the response from our search engine tool.\n"
   ]
  }
 ],
 "metadata": {
  "kernelspec": {
   "display_name": ".venv",
   "language": "python",
   "name": "python3"
  },
  "language_info": {
   "codemirror_mode": {
    "name": "ipython",
    "version": 3
   },
   "file_extension": ".py",
   "mimetype": "text/x-python",
   "name": "python",
   "nbconvert_exporter": "python",
   "pygments_lexer": "ipython3",
   "version": "3.12.10"
  }
 },
 "nbformat": 4,
 "nbformat_minor": 5
}
