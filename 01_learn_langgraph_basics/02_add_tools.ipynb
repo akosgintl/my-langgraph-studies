{
 "cells": [
  {
   "cell_type": "markdown",
   "metadata": {},
   "source": [
    "# 2. Add tools\n",
    "\n",
    "To handle queries that your chatbot can’t answer “from memory”, integrate a web search tool. The chatbot can use this tool to find relevant information and provide better responses.\n",
    "This tutorial builds on [Build a Basic Chatbot](01_build_a_basic_chatbot.ipynb).\n",
    "\n",
    "## Prerequisites\n",
    "\n",
    "Before you start this tutorial, ensure you have the following:\n",
    "- An API key for the [Tavily Search Engine](https://python.langchain.com/docs/integrations/tools/tavily_search/).\n",
    "​\n",
    "## 1. Install the search engine\n",
    "\n",
    "Install the requirements to use the Tavily Search Engine:"
   ]
  },
  {
   "cell_type": "code",
   "execution_count": 1,
   "metadata": {},
   "outputs": [],
   "source": [
    "# pip install -U langchain-tavily"
   ]
  },
  {
   "cell_type": "markdown",
   "metadata": {},
   "source": [
    "## 2. Configure your environment\n",
    "\n",
    "Configure your environment with your search engine API key:"
   ]
  },
  {
   "cell_type": "code",
   "execution_count": 2,
   "metadata": {},
   "outputs": [],
   "source": [
    "import os\n",
    "import getpass\n",
    "\n",
    "# Function to securely get Tavily API key\n",
    "def get_tavily_api_key():\n",
    "    \"\"\"Securely prompt user for Tavily API key\"\"\"\n",
    "    # First try to get from environment variable\n",
    "    api_key = os.environ.get(\"TAVILY_API_KEY\")\n",
    "    \n",
    "    if not api_key:\n",
    "        print(\"Tavily API key not found in environment variables.\")\n",
    "        print(\"Please enter your Tavily API key:\")\n",
    "        print(\"Note: Your input will be hidden for security.\")\n",
    "        api_key = getpass.getpass(\"Tavily API Key: \")\n",
    "        \n",
    "        if api_key:\n",
    "            # Set it for this session only\n",
    "            os.environ[\"TAVILY_API_KEY\"] = api_key\n",
    "            print(\"API key set for this session.\")\n",
    "        else:\n",
    "            raise ValueError(\"Tavily API key is required to run this chatbot.\")\n",
    "    \n",
    "    return api_key\n",
    "\n",
    "# Get the API key securely\n",
    "api_key = get_tavily_api_key()"
   ]
  },
  {
   "cell_type": "markdown",
   "metadata": {},
   "source": [
    "## 3. Define the tool\n",
    "\n",
    "Define the web search tool:"
   ]
  },
  {
   "cell_type": "code",
   "execution_count": 3,
   "metadata": {},
   "outputs": [
    {
     "data": {
      "text/plain": [
       "{'query': \"What's a 'node' in LangGraph?\",\n",
       " 'follow_up_questions': None,\n",
       " 'answer': None,\n",
       " 'images': [],\n",
       " 'results': [{'url': 'https://www.ibm.com/think/topics/langgraph',\n",
       "   'title': 'What is LangGraph?',\n",
       "   'content': 'LangGraph, created by LangChain, is an open source AI agent framework designed to build, deploy and manage complex generative AI agent workflows. At its core, LangGraph uses the power of graph-based architectures to model and manage the intricate relationships between various components of an AI agent workflow. LangGraph illuminates the processes within an AI workflow, allowing full transparency of the agent’s state. By combining these technologies with a set of APIs and tools, LangGraph provides users with a versatile platform for developing AI solutions and workflows including chatbots, state graphs and other agent-based systems. Nodes: In LangGraph, nodes represent individual components or agents within an AI workflow. LangGraph uses enhanced decision-making by modeling complex relationships between nodes, which means it uses AI agents to analyze their past actions and feedback.',\n",
       "   'score': 0.9177831,\n",
       "   'raw_content': None},\n",
       "  {'url': 'https://www.ionio.ai/blog/a-comprehensive-guide-about-langgraph-code-included',\n",
       "   'title': 'A Comprehensive Guide About Langgraph: Code Included',\n",
       "   'content': 'A node can be any function or tool your agent uses in langgraph and these nodes are connected with other nodes using edges. Every workflow ends with a “END”',\n",
       "   'score': 0.89545894,\n",
       "   'raw_content': None}],\n",
       " 'response_time': 0.81,\n",
       " 'request_id': '0456917c-b692-441f-bfb5-3f4319066169'}"
      ]
     },
     "execution_count": 3,
     "metadata": {},
     "output_type": "execute_result"
    }
   ],
   "source": [
    "from langchain_tavily import TavilySearch\n",
    "\n",
    "tool = TavilySearch(max_results=2)\n",
    "tools = [tool]\n",
    "tool.invoke(\"What's a 'node' in LangGraph?\")"
   ]
  },
  {
   "cell_type": "markdown",
   "metadata": {},
   "source": [
    "\n",
    "## 4. Define the graph\n",
    "\n",
    "For the StateGraph you created in the first tutorial, add bind_tools on the LLM. This lets the LLM know the correct JSON format to use if it wants to use the search engine.\n",
    "\n",
    "Let’s first select our LLM:"
   ]
  },
  {
   "cell_type": "code",
   "execution_count": 4,
   "metadata": {},
   "outputs": [],
   "source": [
    "# pip install -U \"langchain[openai]\""
   ]
  },
  {
   "cell_type": "code",
   "execution_count": 5,
   "metadata": {},
   "outputs": [],
   "source": [
    "import os\n",
    "import getpass\n",
    "from langchain.chat_models import init_chat_model\n",
    "\n",
    "# Function to securely get OpenAI API key\n",
    "def get_openai_api_key():\n",
    "    \"\"\"Securely prompt user for OpenAI API key\"\"\"\n",
    "    # First try to get from environment variable\n",
    "    api_key = os.environ.get(\"OPENAI_API_KEY\")\n",
    "    \n",
    "    if not api_key:\n",
    "        print(\"OpenAI API key not found in environment variables.\")\n",
    "        print(\"Please enter your OpenAI API key:\")\n",
    "        print(\"Note: Your input will be hidden for security.\")\n",
    "        api_key = getpass.getpass(\"OpenAI API Key: \")\n",
    "        \n",
    "        if api_key:\n",
    "            # Set it for this session only\n",
    "            os.environ[\"OPENAI_API_KEY\"] = api_key\n",
    "            print(\"API key set for this session.\")\n",
    "        else:\n",
    "            raise ValueError(\"OpenAI API key is required to run this chatbot.\")\n",
    "    \n",
    "    return api_key\n",
    "\n",
    "# Get the API key securely\n",
    "api_key = get_openai_api_key()\n",
    "\n",
    "# Initialize the chat model\n",
    "llm = init_chat_model(\"openai:gpt-4.1\")"
   ]
  },
  {
   "cell_type": "markdown",
   "metadata": {},
   "source": [
    "We can now incorporate it into a StateGraph:"
   ]
  },
  {
   "cell_type": "code",
   "execution_count": 6,
   "metadata": {},
   "outputs": [
    {
     "data": {
      "text/plain": [
       "<langgraph.graph.state.StateGraph at 0x1a708f31430>"
      ]
     },
     "execution_count": 6,
     "metadata": {},
     "output_type": "execute_result"
    }
   ],
   "source": [
    "from typing import Annotated\n",
    "\n",
    "from typing_extensions import TypedDict\n",
    "\n",
    "from langgraph.graph import StateGraph, START, END\n",
    "from langgraph.graph.message import add_messages\n",
    "\n",
    "class State(TypedDict):\n",
    "    messages: Annotated[list, add_messages]\n",
    "\n",
    "graph_builder = StateGraph(State)\n",
    "\n",
    "# Modification: tell the LLM which tools it can call\n",
    "llm_with_tools = llm.bind_tools(tools)\n",
    "\n",
    "def chatbot(state: State):\n",
    "    return {\"messages\": [llm_with_tools.invoke(state[\"messages\"])]}\n",
    "\n",
    "graph_builder.add_node(\"chatbot\", chatbot)"
   ]
  },
  {
   "cell_type": "markdown",
   "metadata": {},
   "source": [
    "## 5. Create a function to run the tools\n",
    "\n",
    "Now, create a function to run the tools if they are called. Do this by adding the tools to a new node calledBasicToolNode that checks the most recent message in the state and calls tools if the message contains tool_calls. It relies on the LLM’s tool_calling support, which is available in Anthropic, OpenAI, Google Gemini, and a number of other LLM providers."
   ]
  },
  {
   "cell_type": "code",
   "execution_count": 7,
   "metadata": {},
   "outputs": [
    {
     "data": {
      "text/plain": [
       "<langgraph.graph.state.StateGraph at 0x1a708f31430>"
      ]
     },
     "execution_count": 7,
     "metadata": {},
     "output_type": "execute_result"
    }
   ],
   "source": [
    "import json\n",
    "\n",
    "from langchain_core.messages import ToolMessage\n",
    "\n",
    "\n",
    "class BasicToolNode:\n",
    "    \"\"\"A node that runs the tools requested in the last AIMessage.\"\"\"\n",
    "\n",
    "    def __init__(self, tools: list) -> None:\n",
    "        self.tools_by_name = {tool.name: tool for tool in tools}\n",
    "\n",
    "    def __call__(self, inputs: dict):\n",
    "        if messages := inputs.get(\"messages\", []):\n",
    "            message = messages[-1]\n",
    "        else:\n",
    "            raise ValueError(\"No message found in input\")\n",
    "        outputs = []\n",
    "        for tool_call in message.tool_calls:\n",
    "            tool_result = self.tools_by_name[tool_call[\"name\"]].invoke(\n",
    "                tool_call[\"args\"]\n",
    "            )\n",
    "            outputs.append(\n",
    "                ToolMessage(\n",
    "                    content=json.dumps(tool_result),\n",
    "                    name=tool_call[\"name\"],\n",
    "                    tool_call_id=tool_call[\"id\"],\n",
    "                )\n",
    "            )\n",
    "        return {\"messages\": outputs}\n",
    "\n",
    "\n",
    "tool_node = BasicToolNode(tools=[tool])\n",
    "graph_builder.add_node(\"tools\", tool_node)"
   ]
  },
  {
   "cell_type": "markdown",
   "metadata": {},
   "source": [
    "If you do not want to build this yourself in the future, you can use LangGraph’s prebuilt ToolNode.\n",
    "\n",
    "## 6. Define the conditional_edges\n",
    "\n",
    "With the tool node added, now you can define the conditional_edges.\n",
    "\n",
    "Edges route the control flow from one node to the next. Conditional edges start from a single node and usually contain “if” statements to route to different nodes depending on the current graph state. These functions receive the current graph state and return a string or list of strings indicating which node(s) to call next.\n",
    "\n",
    "Next, define a router function called route_tools that checks for tool_calls in the chatbot’s output. Provide this function to the graph by calling add_conditional_edges, which tells the graph that whenever the chatbot node completes to check this function to see where to go next.\n",
    "\n",
    "The condition will route to tools if tool calls are present and END if not. Because the condition can return END, you do not need to explicitly set a finish_point this time."
   ]
  },
  {
   "cell_type": "code",
   "execution_count": 8,
   "metadata": {},
   "outputs": [],
   "source": [
    "def route_tools(\n",
    "    state: State,\n",
    "):\n",
    "    \"\"\"\n",
    "    Use in the conditional_edge to route to the ToolNode if the last message\n",
    "    has tool calls. Otherwise, route to the end.\n",
    "    \"\"\"\n",
    "    if isinstance(state, list):\n",
    "        ai_message = state[-1]\n",
    "    elif messages := state.get(\"messages\", []):\n",
    "        ai_message = messages[-1]\n",
    "    else:\n",
    "        raise ValueError(f\"No messages found in input state to tool_edge: {state}\")\n",
    "    if hasattr(ai_message, \"tool_calls\") and len(ai_message.tool_calls) > 0:\n",
    "        return \"tools\"\n",
    "    return END\n",
    "\n",
    "\n",
    "# The `tools_condition` function returns \"tools\" if the chatbot asks to use a tool, and \"END\" if\n",
    "# it is fine directly responding. This conditional routing defines the main agent loop.\n",
    "graph_builder.add_conditional_edges(\n",
    "    \"chatbot\",\n",
    "    route_tools,\n",
    "    # The following dictionary lets you tell the graph to interpret the condition's outputs as a specific node\n",
    "    # It defaults to the identity function, but if you\n",
    "    # want to use a node named something else apart from \"tools\",\n",
    "    # You can update the value of the dictionary to something else\n",
    "    # e.g., \"tools\": \"my_tools\"\n",
    "    {\"tools\": \"tools\", END: END},\n",
    ")\n",
    "# Any time a tool is called, we return to the chatbot to decide the next step\n",
    "graph_builder.add_edge(\"tools\", \"chatbot\")\n",
    "graph_builder.add_edge(START, \"chatbot\")\n",
    "graph = graph_builder.compile()"
   ]
  },
  {
   "cell_type": "markdown",
   "metadata": {},
   "source": [
    "You can replace this with the prebuilt tools_condition to be more concise.\n",
    "​\n",
    "## 7. Visualize the graph\n",
    "\n",
    "You can visualize the graph using the get_graph method and one of the “draw” methods, like draw_ascii or draw_png. The draw methods each require additional dependencies."
   ]
  },
  {
   "cell_type": "code",
   "execution_count": 9,
   "metadata": {},
   "outputs": [
    {
     "data": {
      "image/png": "[encoded data removed]",
      "text/plain": [
       "<IPython.core.display.Image object>"
      ]
     },
     "metadata": {},
     "output_type": "display_data"
    }
   ],
   "source": [
    "from IPython.display import Image, display\n",
    "\n",
    "try:\n",
    "    display(Image(graph.get_graph().draw_mermaid_png()))\n",
    "except Exception:\n",
    "    # This requires some extra dependencies and is optional\n",
    "    pass"
   ]
  },
  {
   "cell_type": "markdown",
   "metadata": {},
   "source": [
    "## 8. Ask the bot questions\n",
    "\n",
    "Now you can ask the chatbot questions outside its training data:"
   ]
  },
  {
   "cell_type": "code",
   "execution_count": 10,
   "metadata": {},
   "outputs": [
    {
     "name": "stdout",
     "output_type": "stream",
     "text": [
      "Assistant: \n",
      "Assistant: {\"query\": \"LangGraph\", \"follow_up_questions\": null, \"answer\": null, \"images\": [], \"results\": [{\"url\": \"https://www.ibm.com/think/topics/langgraph\", \"title\": \"What is LangGraph?\", \"content\": \"LangGraph, created by LangChain, is an open source AI agent framework designed to build, deploy and manage complex generative AI agent workflows. It provides a set of tools and libraries that enable users to create, run and optimize large language models (LLMs) in a scalable and efficient manner. At its core, LangGraph uses the power of graph-based architectures to model and manage the intricate relationships between various components of an AI agent workflow. [...] Agent systems: LangGraph provides a framework for building agent-based systems, which can be used in applications such as robotics, autonomous vehicles or video games.\\n\\nLLM applications: By using LangGraph\\u2019s capabilities, developers can build more sophisticated AI models that learn and improve over time. Norwegian Cruise Line uses LangGraph to compile, construct and refine guest-facing AI solutions. This capability allows for improved and personalized guest experiences. [...] By using a graph-based architecture, LangGraph enables users to scale artificial intelligence workflows without slowing down or sacrificing efficiency. LangGraph uses enhanced decision-making by modeling complex relationships between nodes, which means it uses AI agents to analyze their past actions and feedback. In the world of LLMs, this process is referred to as reflection.\", \"score\": 0.93978655, \"raw_content\": null}, {\"url\": \"https://www.datacamp.com/tutorial/langgraph-tutorial\", \"title\": \"LangGraph Tutorial: What Is LangGraph and How to Use It?\", \"content\": \"LangGraph is a library within the LangChain ecosystem designed to tackle these challenges head-on. LangGraph provides a framework for defining, coordinating, and executing multiple LLM agents (or chains) in a structured manner.\\n\\nIt simplifies the development process by enabling the creation of cyclical graphs, which are essential for developing agent runtimes. With LangGraph, we can easily build robust, scalable, and flexible multi-agent systems.\", \"score\": 0.92620385, \"raw_content\": null}], \"response_time\": 1.09, \"request_id\": \"cb294c4c-9157-4a3d-95b1-d1ddd670a50e\"}\n",
      "Assistant: LangGraph is an open source AI agent framework created by LangChain. It is designed to help developers build, deploy, and manage complex generative AI agent workflows, especially those involving large language models (LLMs). Here are some key aspects:\n",
      "\n",
      "- Graph-Based Architecture: LangGraph leverages graph-based architectures to model and manage relationships between the various components in an AI workflow. This allows for scalable and efficient management of intricate workflows.\n",
      "\n",
      "- Multi-Agent Systems: The framework makes it easy to define, coordinate, and execute multiple LLM agents or chains, enabling robust and flexible multi-agent systems. Cyclical graph structures are supported, which are essential for advanced agent runtimes.\n",
      "\n",
      "- Applications: LangGraph can be used for a wide range of agent-based systems, including robotics, autonomous vehicles, video games, and customer-facing AI solutions. For example, Norwegian Cruise Line uses LangGraph for guest-facing AI to improve and personalize the customer experience.\n",
      "\n",
      "- Reflection and Decision-Making: LangGraph allows AI agents to analyze their past actions and feedback, a process known as reflection in LLM contexts. This enhances decision-making and enables agents to continually improve.\n",
      "\n",
      "- Part of LangChain: LangGraph is part of the broader LangChain ecosystem, making it easy for users already utilizing LangChain to expand their projects with complex agent workflows.\n",
      "\n",
      "LangGraph is particularly useful for developers looking to scale AI workflows without sacrificing efficiency or flexibility. For a deeper dive, you can check LangGraph resources from IBM and tutorials on platforms like DataCamp.\n",
      "Goodbye!\n"
     ]
    }
   ],
   "source": [
    "def stream_graph_updates(user_input: str):\n",
    "    for event in graph.stream({\"messages\": [{\"role\": \"user\", \"content\": user_input}]}):\n",
    "        for value in event.values():\n",
    "            print(\"Assistant:\", value[\"messages\"][-1].content)\n",
    "\n",
    "while True:\n",
    "    try:\n",
    "        user_input = input(\"User: \")\n",
    "        if user_input.lower() in [\"quit\", \"exit\", \"q\"]:\n",
    "            print(\"Goodbye!\")\n",
    "            break\n",
    "\n",
    "        stream_graph_updates(user_input)\n",
    "    except:\n",
    "        # fallback if input() is not available\n",
    "        user_input = \"What do you know about LangGraph?\"\n",
    "        print(\"User: \" + user_input)\n",
    "        stream_graph_updates(user_input)\n",
    "        break"
   ]
  }
 ],
 "metadata": {
  "kernelspec": {
   "display_name": "Python 3",
   "language": "python",
   "name": "python3"
  },
  "language_info": {
   "codemirror_mode": {
    "name": "ipython",
    "version": 3
   },
   "file_extension": ".py",
   "mimetype": "text/x-python",
   "name": "python",
   "nbconvert_exporter": "python",
   "pygments_lexer": "ipython3",
   "version": "3.12.10"
  }
 },
 "nbformat": 4,
 "nbformat_minor": 4
}
