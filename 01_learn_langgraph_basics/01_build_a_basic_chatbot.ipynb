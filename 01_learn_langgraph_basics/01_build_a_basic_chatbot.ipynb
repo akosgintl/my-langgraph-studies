{
 "cells": [
  {
   "cell_type": "markdown",
   "metadata": {},
   "source": [
    "# 1. Build a basic chatbot\n",
    "\n",
    "In this tutorial, you will build a basic chatbot. This chatbot is the basis for the following series of tutorials where you will progressively add more sophisticated capabilities, and be introduced to key LangGraph concepts along the way. Let's dive in! 🌟\n",
    "\n",
    "## Prerequisites\n",
    "\n",
    "Before you start this tutorial, ensure you have access to a LLM that supports\n",
    "tool-calling features, such as [OpenAI](https://platform.openai.com/api-keys),\n",
    "[Anthropic](https://console.anthropic.com/settings/keys), or\n",
    "[Google Gemini](https://ai.google.dev/gemini-api/docs/api-key).\n",
    "\n",
    "## 1. Install packages\n",
    "\n",
    "Install the required packages:"
   ]
  },
  {
   "cell_type": "code",
   "execution_count": 1,
   "metadata": {},
   "outputs": [],
   "source": [
    "# pip install -U langgraph langsmith"
   ]
  },
  {
   "cell_type": "markdown",
   "metadata": {},
   "source": [
    "Sign up for LangSmith to quickly spot issues and improve the performance of your LangGraph projects. LangSmith lets you use trace data to debug, test, and monitor your LLM apps built with LangGraph. For more information on how to get started, see [LangSmith docs](https://docs.smith.langchain.com).\n",
    "\n",
    "\n",
    "## 2. Create a `StateGraph`\n",
    "\n",
    "Now you can create a basic chatbot using LangGraph. This chatbot will respond directly to user messages.\n",
    "\n",
    "Start by creating a `StateGraph`. A `StateGraph` object defines the structure of our chatbot as a \"state machine\". We'll add `nodes` to represent the llm and functions our chatbot can call and `edges` to specify how the bot should transition between these functions."
   ]
  },
  {
   "cell_type": "code",
   "execution_count": 2,
   "metadata": {},
   "outputs": [],
   "source": [
    "from typing import Annotated\n",
    "\n",
    "from typing_extensions import TypedDict\n",
    "\n",
    "from langgraph.graph import StateGraph, START, END\n",
    "from langgraph.graph.message import add_messages\n",
    "\n",
    "\n",
    "class State(TypedDict):\n",
    "    # Messages have the type \"list\". The `add_messages` function\n",
    "    # in the annotation defines how this state key should be updated\n",
    "    # (in this case, it appends messages to the list, rather than overwriting them)\n",
    "    messages: Annotated[list, add_messages]\n",
    "\n",
    "\n",
    "graph_builder = StateGraph(State)"
   ]
  },
  {
   "cell_type": "markdown",
   "metadata": {},
   "source": [
    "Our graph can now handle two key tasks:\n",
    "\n",
    "1. Each `node` can receive the current `State` as input and output an update to the state.\n",
    "2. Updates to `messages` will be appended to the existing list rather than overwriting it, thanks to the prebuilt reducer function.\n",
    "\n",
    "**Concept**\n",
    "When defining a graph, the first step is to define its `State`. The `State` includes the graph's schema and [reducer functions](/oss/graph-api#reducers) that handle state updates. In our example, `State` is a schema with one key: `messages`. The reducer function is used to append new messages to the list instead of overwriting it. Keys without a reducer annotation will overwrite previous values.\n",
    "  \n",
    "To learn more about state, reducers, and related concepts, see [LangGraph reference docs](https://langchain-ai.github.io/langgraph/reference/graphs/#langgraph.graph.message.add_messages).\n",
    "\n",
    "## 3. Add a node\n",
    "\n",
    "Next, add a \"`chatbot`\" node. **Nodes** represent units of work and are typically regular functions.\n",
    "\n",
    "Let's first select a chat model:"
   ]
  },
  {
   "cell_type": "code",
   "execution_count": 3,
   "metadata": {},
   "outputs": [],
   "source": [
    "# pip install -U \"langchain[openai]\""
   ]
  },
  {
   "cell_type": "code",
   "execution_count": 4,
   "metadata": {},
   "outputs": [],
   "source": [
    "import os\n",
    "import getpass\n",
    "from langchain.chat_models import init_chat_model\n",
    "\n",
    "# Function to securely get OpenAI API key\n",
    "def get_openai_api_key():\n",
    "    \"\"\"Securely prompt user for OpenAI API key\"\"\"\n",
    "    # First try to get from environment variable\n",
    "    api_key = os.environ.get(\"OPENAI_API_KEY\")\n",
    "    \n",
    "    if not api_key:\n",
    "        print(\"OpenAI API key not found in environment variables.\")\n",
    "        print(\"Please enter your OpenAI API key:\")\n",
    "        print(\"Note: Your input will be hidden for security.\")\n",
    "        api_key = getpass.getpass(\"OpenAI API Key: \")\n",
    "        \n",
    "        if api_key:\n",
    "            # Set it for this session only\n",
    "            os.environ[\"OPENAI_API_KEY\"] = api_key\n",
    "            print(\"API key set for this session.\")\n",
    "        else:\n",
    "            raise ValueError(\"OpenAI API key is required to run this chatbot.\")\n",
    "    \n",
    "    return api_key\n",
    "\n",
    "# Get the API key securely\n",
    "api_key = get_openai_api_key()\n",
    "\n",
    "# Initialize the chat model\n",
    "llm = init_chat_model(\"openai:gpt-4.1\")"
   ]
  },
  {
   "cell_type": "markdown",
   "metadata": {},
   "source": [
    "We can now incorporate the chat model into a simple node:"
   ]
  },
  {
   "cell_type": "code",
   "execution_count": 5,
   "metadata": {},
   "outputs": [
    {
     "data": {
      "text/plain": [
       "<langgraph.graph.state.StateGraph at 0x18c4dfb8830>"
      ]
     },
     "execution_count": 5,
     "metadata": {},
     "output_type": "execute_result"
    }
   ],
   "source": [
    "def chatbot(state: State):\n",
    "    return {\"messages\": [llm.invoke(state[\"messages\"])]}\n",
    "\n",
    "\n",
    "# The first argument is the unique node name\n",
    "# The second argument is the function or object that will be called whenever\n",
    "# the node is used.\n",
    "graph_builder.add_node(\"chatbot\", chatbot)"
   ]
  },
  {
   "cell_type": "markdown",
   "metadata": {},
   "source": [
    "**Notice** how the `chatbot` node function takes the current `State` as input and returns a dictionary containing an updated `messages` list under the key \"messages\". This is the basic pattern for all LangGraph node functions.\n",
    "\n",
    "The `add_messages` function in our `State` will append the LLM's response messages to whatever messages are already in the state.\n",
    "\n",
    "## 4. Add an `entry` point\n",
    "\n",
    "Add an `entry` point to tell the graph **where to start its work** each time it is run:"
   ]
  },
  {
   "cell_type": "code",
   "execution_count": 6,
   "metadata": {},
   "outputs": [
    {
     "data": {
      "text/plain": [
       "<langgraph.graph.state.StateGraph at 0x18c4dfb8830>"
      ]
     },
     "execution_count": 6,
     "metadata": {},
     "output_type": "execute_result"
    }
   ],
   "source": [
    "graph_builder.add_edge(START, \"chatbot\")"
   ]
  },
  {
   "cell_type": "markdown",
   "metadata": {},
   "source": [
    "## 5. Add an `exit` point\n",
    "\n",
    "Add an `exit` point to indicate **where the graph should finish execution**. This is helpful for more complex flows, but even in a simple graph like this, adding an end node improves clarity."
   ]
  },
  {
   "cell_type": "code",
   "execution_count": 7,
   "metadata": {},
   "outputs": [
    {
     "data": {
      "text/plain": [
       "<langgraph.graph.state.StateGraph at 0x18c4dfb8830>"
      ]
     },
     "execution_count": 7,
     "metadata": {},
     "output_type": "execute_result"
    }
   ],
   "source": [
    "graph_builder.add_edge(\"chatbot\", END)"
   ]
  },
  {
   "cell_type": "markdown",
   "metadata": {},
   "source": [
    "This tells the graph to terminate after running the chatbot node.\n",
    "\n",
    "## 6. Compile the graph\n",
    "\n",
    "Before running the graph, we'll need to compile it. We can do so by calling `compile()`\n",
    "on the graph builder. This creates a `CompiledGraph` we can invoke on our state."
   ]
  },
  {
   "cell_type": "code",
   "execution_count": 8,
   "metadata": {},
   "outputs": [],
   "source": [
    "graph = graph_builder.compile()"
   ]
  },
  {
   "cell_type": "markdown",
   "metadata": {},
   "source": [
    "## 7. Visualize the graph\n",
    "\n",
    "You can visualize the graph using the `get_graph` method and one of the \"draw\" methods, like `draw_ascii` or `draw_png`. The `draw` methods each require additional dependencies."
   ]
  },
  {
   "cell_type": "code",
   "execution_count": 9,
   "metadata": {},
   "outputs": [
    {
     "data": {
      "image/png": "[encoded data removed]",
      "text/plain": [
       "<IPython.core.display.Image object>"
      ]
     },
     "metadata": {},
     "output_type": "display_data"
    }
   ],
   "source": [
    "from IPython.display import Image, display\n",
    "\n",
    "try:\n",
    "    display(Image(graph.get_graph().draw_mermaid_png()))\n",
    "except Exception:\n",
    "    # This requires some extra dependencies and is optional\n",
    "    pass"
   ]
  },
  {
   "cell_type": "markdown",
   "metadata": {},
   "source": [
    "## 8. Run the chatbot\n",
    "\n",
    "Now run the chatbot!\n",
    "\n",
    "You can exit the chat loop at any time by typing `quit`, `exit`, or `q`."
   ]
  },
  {
   "cell_type": "code",
   "execution_count": 10,
   "metadata": {},
   "outputs": [
    {
     "name": "stdout",
     "output_type": "stream",
     "text": [
      "Assistant: **LangGraph** is an open-source framework designed to build stateful, multi-agent applications using Large Language Models (LLMs). It is created by the same team behind **LangChain**, a popular library for composing LLM applications.\n",
      "\n",
      "Here’s what you should know about LangGraph:\n",
      "\n",
      "---\n",
      "\n",
      "## What does LangGraph do?\n",
      "\n",
      "- **Graphs for LLM Workflows:** LangGraph enables you to design complex application \"flows\" using **graphs**. In these, nodes typically represent agents, tools, or function calls, and edges define how information passes between components.\n",
      "- **Stateful and Recurrent:** It handles applications where the output of one step informs the next, supporting loops, memory, and multi-turn agent conversations.\n",
      "- **Multi-Agent Systems:** LangGraph shines in situations where multiple agents (LLM-based or otherwise) interact, collaborate, or debate to solve a problem.\n",
      "- **Interoperability with LangChain:** LangGraph is built to work nicely with LangChain components (tools, memory, retrievers, etc.).\n",
      "\n",
      "---\n",
      "\n",
      "## Core Concepts\n",
      "\n",
      "1. **Nodes:** Each node can be an agent, a tool, or any processing step.\n",
      "2. **Edges:** Paths information can take; can be conditional, supporting branching logic based on LLM or user decisions.\n",
      "3. **Memory/State:** LangGraph manages and passes state between nodes, letting history inform future steps.\n",
      "4. **Concurrency and Feedback Loops:** Supports branching, looping, and recurrence, enabling sophisticated workflow patterns.\n",
      "\n",
      "---\n",
      "\n",
      "## Typical Use Cases\n",
      "\n",
      "- **Agent Debate:** Multiple agents presenting and debating solutions to a problem.\n",
      "- **Multi-Step Reasoning:** Workflows where steps depend on previous context and outcomes.\n",
      "- **Complex Tool Use:** Orchestrating calls to different tools or APIs, where order or choice depends on runtime state.\n",
      "- **Human-in-the-Loop:** Flows with branching based on end-user verification or input.\n",
      "\n",
      "---\n",
      "\n",
      "## Example Applications\n",
      "\n",
      "- **Multi-agent customer support bots**\n",
      "- **Automated research assistants with multiple specialist agents**\n",
      "- **Agents with role-playing/planning abilities (manager, worker, verifier, etc.)**\n",
      "- **Conversational retrieval applications with bespoke logic for handling queries and clarifications**\n",
      "\n",
      "---\n",
      "\n",
      "## Availability\n",
      "\n",
      "- **Open source** ([GitHub repo here](https://github.com/langchain-ai/langgraph))\n",
      "- **Python-first** (though the concepts are language agnostic).\n",
      "- Seamlessly integrates with **LangChain**, but can be used independently in agent systems.\n",
      "\n",
      "---\n",
      "\n",
      "## Comparison to LangChain\n",
      "\n",
      "LangChain provides “chains” (linear sequences of steps) and basic agent frameworks. LangGraph enables more sophisticated graph-based workflows, supporting complexity like loops, mutable state, and multi-agent interactions, all natively.\n",
      "\n",
      "---\n",
      "\n",
      "**Summary:**  \n",
      "LangGraph is a powerful tool for building structured, stateful, and interactive workflows for LLM applications, especially when you need coordination, memory, and multi-agent interaction.\n",
      "\n",
      "Let me know if you want a practical code example or recommendations on when (and when not) to use LangGraph!\n",
      "Goodbye!\n"
     ]
    }
   ],
   "source": [
    "def stream_graph_updates(user_input: str):\n",
    "    for event in graph.stream({\"messages\": [{\"role\": \"user\", \"content\": user_input}]}):\n",
    "        for value in event.values():\n",
    "            print(\"Assistant:\", value[\"messages\"][-1].content)\n",
    "\n",
    "\n",
    "while True:\n",
    "    try:\n",
    "        user_input = input(\"User: \")\n",
    "        if user_input.lower() in [\"quit\", \"exit\", \"q\"]:\n",
    "            print(\"Goodbye!\")\n",
    "            break\n",
    "        stream_graph_updates(user_input)\n",
    "    except:\n",
    "        # fallback if input() is not available\n",
    "        user_input = \"What do you know about LangGraph?\"\n",
    "        print(\"User: \" + user_input)\n",
    "        stream_graph_updates(user_input)\n",
    "        break"
   ]
  }
 ],
 "metadata": {
  "kernelspec": {
   "display_name": ".venv",
   "language": "python",
   "name": "python3"
  },
  "language_info": {
   "codemirror_mode": {
    "name": "ipython",
    "version": 3
   },
   "file_extension": ".py",
   "mimetype": "text/x-python",
   "name": "python",
   "nbconvert_exporter": "python",
   "pygments_lexer": "ipython3",
   "version": "3.12.10"
  }
 },
 "nbformat": 4,
 "nbformat_minor": 4
}
