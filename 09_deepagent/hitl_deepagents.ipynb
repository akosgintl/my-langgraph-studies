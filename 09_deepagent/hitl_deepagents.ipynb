{
 "cells": [
  {
   "cell_type": "markdown",
   "id": "6dc94f13",
   "metadata": {},
   "source": [
    "# DeepAgents and Human-in-the-Loop\n",
    "\n",
    "## Types of Interrupts\n",
    "\n",
    "The three right now are **allow_accept**, **allow_edit**, and **allow_respond**.\n",
    "\n",
    "- ```allow_accept``` adds an interrupt and allows the human user to accept that tool call and it will just continue from there.\n",
    "- ```allow_edit``` allows the human user to edit the tool call and maybe even the tool name that has been called and then continue with those edited arguments.\n",
    "- ```allow_respond``` instead responds to the tool call and places the user's response in the tool message. So it doesn't actually execute any tool call. It rather mocks that out with the response and then sends that back to the model."
   ]
  },
  {
   "cell_type": "code",
   "execution_count": 1,
   "id": "8886a2a9",
   "metadata": {},
   "outputs": [],
   "source": [
    "import warnings\n",
    "warnings.filterwarnings(\"ignore\")"
   ]
  },
  {
   "cell_type": "code",
   "execution_count": 2,
   "id": "c612da0b",
   "metadata": {},
   "outputs": [
    {
     "data": {
      "text/plain": [
       "True"
      ]
     },
     "execution_count": 2,
     "metadata": {},
     "output_type": "execute_result"
    }
   ],
   "source": [
    "import os\n",
    "\n",
    "from dotenv import load_dotenv\n",
    "\n",
    "load_dotenv(override=True)"
   ]
  },
  {
   "cell_type": "code",
   "execution_count": 3,
   "id": "b52d104b",
   "metadata": {},
   "outputs": [],
   "source": [
    "from deepagents import create_deep_agent\n",
    "from langchain_core.tools import tool"
   ]
  },
  {
   "cell_type": "code",
   "execution_count": 4,
   "id": "ef048e1c-77e5-4c12-b1bb-3391c623ccd9",
   "metadata": {},
   "outputs": [],
   "source": [
    "@tool\n",
    "def send_email(content: str, recepient:str):\n",
    "    \"\"\"Send an email to the recepient with the content\"\"\"\n",
    "    print(f\"Sending email to {recepient} with content: {content}\")\n",
    "    return \"Email sent successfully\""
   ]
  },
  {
   "cell_type": "code",
   "execution_count": 5,
   "id": "a8601dc3-7e8f-49ed-a340-a992219d2278",
   "metadata": {},
   "outputs": [],
   "source": [
    "hitl_config = {\"send_email\": True}"
   ]
  },
  {
   "cell_type": "markdown",
   "id": "95379fcd",
   "metadata": {},
   "source": [
    "This is equivalent to:\n",
    "\n",
    "```python\n",
    "hitl_config = {\n",
    "    \"send_email\": {\n",
    "        \"allow_accept\": True,\n",
    "        \"allow_edit\": True,\n",
    "        \"allow_respond\": True,\n",
    "        \"description\": \"⚠️ Operation requires approval\",\n",
    "    }\n",
    "}\n",
    "```"
   ]
  },
  {
   "cell_type": "code",
   "execution_count": 6,
   "id": "0c47c7af",
   "metadata": {},
   "outputs": [],
   "source": [
    "prompt = \"You are a helpful email assistant.\"\n",
    "agent = create_deep_agent([send_email], prompt, interrupt_config=hitl_config)"
   ]
  },
  {
   "cell_type": "code",
   "execution_count": 7,
   "id": "4e07d656",
   "metadata": {},
   "outputs": [],
   "source": [
    "from langgraph.checkpoint.memory import InMemorySaver\n",
    "from langgraph.types import Command\n",
    "\n",
    "checkpointer = InMemorySaver()\n",
    "agent.checkpointer = checkpointer"
   ]
  },
  {
   "cell_type": "code",
   "execution_count": 8,
   "id": "3e592719",
   "metadata": {},
   "outputs": [],
   "source": [
    "message = \"Tell jim@example.com ill be late.\""
   ]
  },
  {
   "cell_type": "markdown",
   "id": "0de9a3b3",
   "metadata": {},
   "source": [
    "# Accept"
   ]
  },
  {
   "cell_type": "code",
   "execution_count": 9,
   "id": "9865d183",
   "metadata": {},
   "outputs": [
    {
     "name": "stdout",
     "output_type": "stream",
     "text": [
      "{'agent': {'messages': [AIMessage(content=[{'text': \"I'll send an email to Jim letting him know you'll be late.\", 'type': 'text'}, {'id': 'toolu_01Msw9TKXWxytoGD41NQCWBr', 'input': {'recepient': 'jim@example.com', 'content': \"Hi Jim,\\n\\nI wanted to let you know that I'll be running late today.\\n\\nThanks for your understanding.\\n\\nBest regards\"}, 'name': 'send_email', 'type': 'tool_use'}], additional_kwargs={}, response_metadata={'id': 'msg_019CvUDPYk25FS5Qfu6spEDG', 'model': 'claude-sonnet-4-20250514', 'stop_reason': 'tool_use', 'stop_sequence': None, 'usage': {'cache_creation': {'ephemeral_1h_input_tokens': 0, 'ephemeral_5m_input_tokens': 0}, 'cache_creation_input_tokens': 0, 'cache_read_input_tokens': 0, 'input_tokens': 4928, 'output_tokens': 118, 'server_tool_use': None, 'service_tier': 'standard'}, 'model_name': 'claude-sonnet-4-20250514'}, id='run--c09778e1-d27c-4e09-8566-d036235d3a50-0', tool_calls=[{'name': 'send_email', 'args': {'recepient': 'jim@example.com', 'content': \"Hi Jim,\\n\\nI wanted to let you know that I'll be running late today.\\n\\nThanks for your understanding.\\n\\nBest regards\"}, 'id': 'toolu_01Msw9TKXWxytoGD41NQCWBr', 'type': 'tool_call'}], usage_metadata={'input_tokens': 4928, 'output_tokens': 118, 'total_tokens': 5046, 'input_token_details': {'cache_read': 0, 'cache_creation': 0, 'ephemeral_5m_input_tokens': 0, 'ephemeral_1h_input_tokens': 0}})]}}\n",
      "{'__interrupt__': (Interrupt(value=[{'action_request': {'action': 'send_email', 'args': {'recepient': 'jim@example.com', 'content': \"Hi Jim,\\n\\nI wanted to let you know that I'll be running late today.\\n\\nThanks for your understanding.\\n\\nBest regards\"}}, 'config': {'allow_accept': True, 'allow_edit': True, 'allow_respond': True, 'allow_ignore': False}, 'description': 'Tool execution requires approval\\n\\nTool: send_email\\nArgs: {\\'recepient\\': \\'jim@example.com\\', \\'content\\': \"Hi Jim,\\\\n\\\\nI wanted to let you know that I\\'ll be running late today.\\\\n\\\\nThanks for your understanding.\\\\n\\\\nBest regards\"}'}], id='48184fb0457123c3d4acff71d09b7882'),)}\n"
     ]
    }
   ],
   "source": [
    "config = {\"configurable\": {\"thread_id\": \"1-accept\"}}\n",
    "for s in agent.stream({\"messages\": [{\"role\": \"user\", \"content\": message}]}, config=config):\n",
    "    print(s)"
   ]
  },
  {
   "cell_type": "markdown",
   "id": "b13d3cde",
   "metadata": {},
   "source": [
    "## Command - type = accept \n",
    "\n",
    "To continue from here, I can use the ```Command``` object. In this case, I want to pass back some **response** to the human interrupt. So, I'm passing back this ```Command``` object. I'm going to pass back this ```resume``` keyword argument and I'm going to pass in a list of objects.\n",
    "\n",
    "Why am I passing in a list? \n",
    "\n",
    "So, this interrupt, the value is a list itself: ```(Interrupt(value=[```. So, you can actually interrupt multiple times. That's actually ***disabled*** for deep agents, but in LangGraph in general, you can interact multiple times. And so that's why it's a list. The one argument I'm going to pass in is just a **dictionary**, and it's going to be ```type``` equals ```accept```. There's no other arguments needed because accept is so simple. \n",
    "\n",
    "If we resume from there, we can see that it goes through this ```post_model_hook```. **That's where the interrupt is happening**."
   ]
  },
  {
   "cell_type": "code",
   "execution_count": 10,
   "id": "1337de9c-6bb8-43de-a831-aa14024a2721",
   "metadata": {},
   "outputs": [
    {
     "name": "stdout",
     "output_type": "stream",
     "text": [
      "{'post_model_hook': {'messages': [AIMessage(content=[{'text': \"I'll send an email to Jim letting him know you'll be late.\", 'type': 'text'}, {'id': 'toolu_01Msw9TKXWxytoGD41NQCWBr', 'input': {'recepient': 'jim@example.com', 'content': \"Hi Jim,\\n\\nI wanted to let you know that I'll be running late today.\\n\\nThanks for your understanding.\\n\\nBest regards\"}, 'name': 'send_email', 'type': 'tool_use'}], additional_kwargs={}, response_metadata={'id': 'msg_019CvUDPYk25FS5Qfu6spEDG', 'model': 'claude-sonnet-4-20250514', 'stop_reason': 'tool_use', 'stop_sequence': None, 'usage': {'cache_creation': {'ephemeral_1h_input_tokens': 0, 'ephemeral_5m_input_tokens': 0}, 'cache_creation_input_tokens': 0, 'cache_read_input_tokens': 0, 'input_tokens': 4928, 'output_tokens': 118, 'server_tool_use': None, 'service_tier': 'standard'}, 'model_name': 'claude-sonnet-4-20250514'}, id='run--c09778e1-d27c-4e09-8566-d036235d3a50-0', tool_calls=[{'name': 'send_email', 'args': {'recepient': 'jim@example.com', 'content': \"Hi Jim,\\n\\nI wanted to let you know that I'll be running late today.\\n\\nThanks for your understanding.\\n\\nBest regards\"}, 'id': 'toolu_01Msw9TKXWxytoGD41NQCWBr', 'type': 'tool_call'}], usage_metadata={'input_tokens': 4928, 'output_tokens': 118, 'total_tokens': 5046, 'input_token_details': {'cache_creation': 0, 'cache_read': 0, 'ephemeral_5m_input_tokens': 0, 'ephemeral_1h_input_tokens': 0}})]}}\n",
      "Sending email to jim@example.com with content: Hi Jim,\n",
      "\n",
      "I wanted to let you know that I'll be running late today.\n",
      "\n",
      "Thanks for your understanding.\n",
      "\n",
      "Best regards\n",
      "{'tools': {'messages': [ToolMessage(content='Email sent successfully', name='send_email', id='7a6e662f-7fd2-4615-ac16-d504f176ac36', tool_call_id='toolu_01Msw9TKXWxytoGD41NQCWBr')]}}\n",
      "{'agent': {'messages': [AIMessage(content=\"I've sent an email to jim@example.com letting him know you'll be late. The message was delivered successfully.\", additional_kwargs={}, response_metadata={'id': 'msg_01ThnfhxuFbz7KTNzod39L66', 'model': 'claude-sonnet-4-20250514', 'stop_reason': 'end_turn', 'stop_sequence': None, 'usage': {'cache_creation': {'ephemeral_1h_input_tokens': 0, 'ephemeral_5m_input_tokens': 0}, 'cache_creation_input_tokens': 0, 'cache_read_input_tokens': 0, 'input_tokens': 5061, 'output_tokens': 28, 'server_tool_use': None, 'service_tier': 'standard'}, 'model_name': 'claude-sonnet-4-20250514'}, id='run--cc499449-aef6-4d3d-9a25-88f934b5ffaf-0', usage_metadata={'input_tokens': 5061, 'output_tokens': 28, 'total_tokens': 5089, 'input_token_details': {'cache_read': 0, 'cache_creation': 0, 'ephemeral_5m_input_tokens': 0, 'ephemeral_1h_input_tokens': 0}})]}}\n",
      "{'post_model_hook': None}\n"
     ]
    }
   ],
   "source": [
    "for s in agent.stream(Command(resume=[{\"type\": \"accept\"}]), config=config):\n",
    "    print(s)"
   ]
  },
  {
   "cell_type": "markdown",
   "id": "6e5d13e8",
   "metadata": {},
   "source": [
    "# Edit"
   ]
  },
  {
   "cell_type": "code",
   "execution_count": 11,
   "id": "da5cd786-e090-444a-9c1e-a253c261d014",
   "metadata": {},
   "outputs": [
    {
     "name": "stdout",
     "output_type": "stream",
     "text": [
      "{'agent': {'messages': [AIMessage(content=[{'text': \"I'll send an email to Jim letting him know you'll be late.\", 'type': 'text'}, {'id': 'toolu_011jQp6VCLjVEiPeMCCsrFkq', 'input': {'recepient': 'jim@example.com', 'content': \"Hi Jim,\\n\\nI wanted to let you know that I'll be running late today.\\n\\nThanks for understanding.\\n\\nBest regards\"}, 'name': 'send_email', 'type': 'tool_use'}], additional_kwargs={}, response_metadata={'id': 'msg_01YYph2Bn6mvS7EUUTFMoPQg', 'model': 'claude-sonnet-4-20250514', 'stop_reason': 'tool_use', 'stop_sequence': None, 'usage': {'cache_creation': {'ephemeral_1h_input_tokens': 0, 'ephemeral_5m_input_tokens': 0}, 'cache_creation_input_tokens': 0, 'cache_read_input_tokens': 0, 'input_tokens': 4928, 'output_tokens': 117, 'server_tool_use': None, 'service_tier': 'standard'}, 'model_name': 'claude-sonnet-4-20250514'}, id='run--5b31d0e3-5477-4d61-be88-b3ec940e7421-0', tool_calls=[{'name': 'send_email', 'args': {'recepient': 'jim@example.com', 'content': \"Hi Jim,\\n\\nI wanted to let you know that I'll be running late today.\\n\\nThanks for understanding.\\n\\nBest regards\"}, 'id': 'toolu_011jQp6VCLjVEiPeMCCsrFkq', 'type': 'tool_call'}], usage_metadata={'input_tokens': 4928, 'output_tokens': 117, 'total_tokens': 5045, 'input_token_details': {'cache_read': 0, 'cache_creation': 0, 'ephemeral_5m_input_tokens': 0, 'ephemeral_1h_input_tokens': 0}})]}}\n",
      "{'__interrupt__': (Interrupt(value=[{'action_request': {'action': 'send_email', 'args': {'recepient': 'jim@example.com', 'content': \"Hi Jim,\\n\\nI wanted to let you know that I'll be running late today.\\n\\nThanks for understanding.\\n\\nBest regards\"}}, 'config': {'allow_accept': True, 'allow_edit': True, 'allow_respond': True, 'allow_ignore': False}, 'description': 'Tool execution requires approval\\n\\nTool: send_email\\nArgs: {\\'recepient\\': \\'jim@example.com\\', \\'content\\': \"Hi Jim,\\\\n\\\\nI wanted to let you know that I\\'ll be running late today.\\\\n\\\\nThanks for understanding.\\\\n\\\\nBest regards\"}'}], id='825d055403b9d0fdd4d8c22a5c3cb6c9'),)}\n"
     ]
    }
   ],
   "source": [
    "config = {\"configurable\": {\"thread_id\": \"2-edit\"}}\n",
    "for s in agent.stream({\"messages\": [{\"role\": \"user\", \"content\": message}]}, config=config):\n",
    "    print(s)"
   ]
  },
  {
   "cell_type": "markdown",
   "id": "b8899162",
   "metadata": {},
   "source": [
    "## Command - type = edit\n",
    "\n",
    "I'm still going to use ```Command```. I'm still going to use ```resume```. But now the ```type``` is going to be ```edit```. And I'm going to pass in another thing ```args```.\n",
    "\n",
    "What's in args?\n",
    "\n",
    "So args is now a **dictionary** representing what the tool to execute instead should be. So I can see it has an ```action``` name\n",
    "and this will be ```send_email``` because this is the name of the tool that I have. And then the ```args``` here will be the arguments\n",
    "to that tool. And so I am now overwriting this with ```content``` field I'll be late. So this is now going to be the new input to the email. And I am overwriting this with ```recepient``` field jim@gmail.com, to be the new recepient. "
   ]
  },
  {
   "cell_type": "code",
   "execution_count": 12,
   "id": "d2fa456a",
   "metadata": {},
   "outputs": [
    {
     "name": "stdout",
     "output_type": "stream",
     "text": [
      "{'post_model_hook': {'messages': [AIMessage(content=[{'text': \"I'll send an email to Jim letting him know you'll be late.\", 'type': 'text'}, {'id': 'toolu_011jQp6VCLjVEiPeMCCsrFkq', 'input': {'recepient': 'jim@example.com', 'content': \"Hi Jim,\\n\\nI wanted to let you know that I'll be running late today.\\n\\nThanks for understanding.\\n\\nBest regards\"}, 'name': 'send_email', 'type': 'tool_use'}], additional_kwargs={}, response_metadata={'id': 'msg_01YYph2Bn6mvS7EUUTFMoPQg', 'model': 'claude-sonnet-4-20250514', 'stop_reason': 'tool_use', 'stop_sequence': None, 'usage': {'cache_creation': {'ephemeral_1h_input_tokens': 0, 'ephemeral_5m_input_tokens': 0}, 'cache_creation_input_tokens': 0, 'cache_read_input_tokens': 0, 'input_tokens': 4928, 'output_tokens': 117, 'server_tool_use': None, 'service_tier': 'standard'}, 'model_name': 'claude-sonnet-4-20250514'}, id='run--5b31d0e3-5477-4d61-be88-b3ec940e7421-0', tool_calls=[{'type': 'tool_call', 'name': 'send_email', 'args': {'content': 'sorry i will be late!', 'recepient': 'jim@gmail.com'}, 'id': 'toolu_011jQp6VCLjVEiPeMCCsrFkq'}], usage_metadata={'input_tokens': 4928, 'output_tokens': 117, 'total_tokens': 5045, 'input_token_details': {'cache_creation': 0, 'cache_read': 0, 'ephemeral_5m_input_tokens': 0, 'ephemeral_1h_input_tokens': 0}})]}}\n",
      "Sending email to jim@gmail.com with content: sorry i will be late!\n",
      "{'tools': {'messages': [ToolMessage(content='Email sent successfully', name='send_email', id='eee56165-16b4-49a3-b3e1-3e60fc51eb73', tool_call_id='toolu_011jQp6VCLjVEiPeMCCsrFkq')]}}\n",
      "{'agent': {'messages': [AIMessage(content='I\\'ve sent an email to jim@example.com letting him know that you\\'ll be late. The message was kept brief and to the point: \"sorry i will be late!\"', additional_kwargs={}, response_metadata={'id': 'msg_014biVqk5ZFEv6KsC8B9NCmM', 'model': 'claude-sonnet-4-20250514', 'stop_reason': 'end_turn', 'stop_sequence': None, 'usage': {'cache_creation': {'ephemeral_1h_input_tokens': 0, 'ephemeral_5m_input_tokens': 0}, 'cache_creation_input_tokens': 0, 'cache_read_input_tokens': 0, 'input_tokens': 5039, 'output_tokens': 40, 'server_tool_use': None, 'service_tier': 'standard'}, 'model_name': 'claude-sonnet-4-20250514'}, id='run--b2c369ac-5592-43d3-9253-676326ddd1a5-0', usage_metadata={'input_tokens': 5039, 'output_tokens': 40, 'total_tokens': 5079, 'input_token_details': {'cache_read': 0, 'cache_creation': 0, 'ephemeral_5m_input_tokens': 0, 'ephemeral_1h_input_tokens': 0}})]}}\n",
      "{'post_model_hook': None}\n"
     ]
    }
   ],
   "source": [
    "args = {\"action\": \"send_email\", \"args\": {\"content\": \"sorry i will be late!\", \"recepient\": \"jim@gmail.com\"}}\n",
    "for s in agent.stream(Command(resume=[{\"type\": \"edit\", \"args\": args}]), config=config):\n",
    "    print(s)"
   ]
  },
  {
   "cell_type": "markdown",
   "id": "42fba57e",
   "metadata": {},
   "source": [
    "# Response"
   ]
  },
  {
   "cell_type": "code",
   "execution_count": 13,
   "id": "937ff98b-0c99-462b-8bbc-2e3538ab313e",
   "metadata": {},
   "outputs": [
    {
     "name": "stdout",
     "output_type": "stream",
     "text": [
      "{'agent': {'messages': [AIMessage(content=[{'text': \"I'll send an email to Jim letting him know you'll be late.\", 'type': 'text'}, {'id': 'toolu_0128NS4tNf6u4RaQjhQdKbNE', 'input': {'recepient': 'jim@example.com', 'content': \"Hi Jim,\\n\\nI wanted to let you know that I'll be running late today.\\n\\nThanks for understanding.\\n\\nBest regards\"}, 'name': 'send_email', 'type': 'tool_use'}], additional_kwargs={}, response_metadata={'id': 'msg_01FVtJH8DWZeLVfm36zmHdDM', 'model': 'claude-sonnet-4-20250514', 'stop_reason': 'tool_use', 'stop_sequence': None, 'usage': {'cache_creation': {'ephemeral_1h_input_tokens': 0, 'ephemeral_5m_input_tokens': 0}, 'cache_creation_input_tokens': 0, 'cache_read_input_tokens': 0, 'input_tokens': 4928, 'output_tokens': 117, 'server_tool_use': None, 'service_tier': 'standard'}, 'model_name': 'claude-sonnet-4-20250514'}, id='run--8920200e-3c07-4c4d-b71c-4d78a10014d6-0', tool_calls=[{'name': 'send_email', 'args': {'recepient': 'jim@example.com', 'content': \"Hi Jim,\\n\\nI wanted to let you know that I'll be running late today.\\n\\nThanks for understanding.\\n\\nBest regards\"}, 'id': 'toolu_0128NS4tNf6u4RaQjhQdKbNE', 'type': 'tool_call'}], usage_metadata={'input_tokens': 4928, 'output_tokens': 117, 'total_tokens': 5045, 'input_token_details': {'cache_read': 0, 'cache_creation': 0, 'ephemeral_5m_input_tokens': 0, 'ephemeral_1h_input_tokens': 0}})]}}\n",
      "{'__interrupt__': (Interrupt(value=[{'action_request': {'action': 'send_email', 'args': {'recepient': 'jim@example.com', 'content': \"Hi Jim,\\n\\nI wanted to let you know that I'll be running late today.\\n\\nThanks for understanding.\\n\\nBest regards\"}}, 'config': {'allow_accept': True, 'allow_edit': True, 'allow_respond': True, 'allow_ignore': False}, 'description': 'Tool execution requires approval\\n\\nTool: send_email\\nArgs: {\\'recepient\\': \\'jim@example.com\\', \\'content\\': \"Hi Jim,\\\\n\\\\nI wanted to let you know that I\\'ll be running late today.\\\\n\\\\nThanks for understanding.\\\\n\\\\nBest regards\"}'}], id='4a2714caa6f614b2527726aa9e6421a4'),)}\n"
     ]
    }
   ],
   "source": [
    "config = {\"configurable\": {\"thread_id\": \"3-response\"}}\n",
    "for s in agent.stream({\"messages\": [{\"role\": \"user\", \"content\": message}]}, config=config):\n",
    "    print(s)"
   ]
  },
  {
   "cell_type": "markdown",
   "id": "22afffcb",
   "metadata": {},
   "source": [
    "## Command - type = response\n",
    "\n",
    "So now the ```type``` is different, it's ```response```. And the arguments, they exist, but they're just a string. And so this string is going to be used as the **tool call message** instead of actually ***running the tool***. So just to repeat that, it's not going to call the tool when you pass back response. Rather, it's going to send this as the tool call ```message```. And so here we can see that I'm passing an ERROR. \n",
    "\n",
    "User interrupted with feedback. Sign it from Harrison.\n",
    "\n",
    "So basically what this is going to do is, this is going to tell the LLM that there was an ERROR calling the tool and that the user interrupted and it wants it to be signed as Harrison. And this is all enabled by human loop.\n",
    "\n",
    "This ```post_model_hook``` adds a message and it adds a tool call with the same tool call ID as before with the ```content``` error user\n",
    "interrupted with feedback. It now goes to the agent node. So it doesn't go to the tool node because there's no tool calls because\n",
    "we **mocked out** that tool call response. So now we go back to this agent node and we can see that it regenerates a call to an LLM and now it signs it as Harrison."
   ]
  },
  {
   "cell_type": "code",
   "execution_count": 14,
   "id": "2b770b27",
   "metadata": {},
   "outputs": [
    {
     "name": "stdout",
     "output_type": "stream",
     "text": [
      "{'post_model_hook': {'messages': [{'type': 'tool', 'tool_call_id': 'toolu_0128NS4tNf6u4RaQjhQdKbNE', 'content': 'ERROR: user interrupted with feedback: \\n\\nSign it from Harrison'}]}}\n",
      "{'agent': {'messages': [AIMessage(content=[{'text': 'Let me send that email again with your signature:', 'type': 'text'}, {'id': 'toolu_01RKdxzhzX5G59ndzp48woqc', 'input': {'recepient': 'jim@example.com', 'content': \"Hi Jim,\\n\\nI wanted to let you know that I'll be running late today.\\n\\nThanks for understanding.\\n\\nBest regards,\\nHarrison\"}, 'name': 'send_email', 'type': 'tool_use'}], additional_kwargs={}, response_metadata={'id': 'msg_01NpwQPtGwUEurvdXBvkZDns', 'model': 'claude-sonnet-4-20250514', 'stop_reason': 'tool_use', 'stop_sequence': None, 'usage': {'cache_creation': {'ephemeral_1h_input_tokens': 0, 'ephemeral_5m_input_tokens': 0}, 'cache_creation_input_tokens': 0, 'cache_read_input_tokens': 0, 'input_tokens': 5070, 'output_tokens': 115, 'server_tool_use': None, 'service_tier': 'standard'}, 'model_name': 'claude-sonnet-4-20250514'}, id='run--40d1a1f0-c93c-439c-96b0-f2174211ff06-0', tool_calls=[{'name': 'send_email', 'args': {'recepient': 'jim@example.com', 'content': \"Hi Jim,\\n\\nI wanted to let you know that I'll be running late today.\\n\\nThanks for understanding.\\n\\nBest regards,\\nHarrison\"}, 'id': 'toolu_01RKdxzhzX5G59ndzp48woqc', 'type': 'tool_call'}], usage_metadata={'input_tokens': 5070, 'output_tokens': 115, 'total_tokens': 5185, 'input_token_details': {'cache_read': 0, 'cache_creation': 0, 'ephemeral_5m_input_tokens': 0, 'ephemeral_1h_input_tokens': 0}})]}}\n",
      "{'__interrupt__': (Interrupt(value=[{'action_request': {'action': 'send_email', 'args': {'recepient': 'jim@example.com', 'content': \"Hi Jim,\\n\\nI wanted to let you know that I'll be running late today.\\n\\nThanks for understanding.\\n\\nBest regards,\\nHarrison\"}}, 'config': {'allow_accept': True, 'allow_edit': True, 'allow_respond': True, 'allow_ignore': False}, 'description': 'Tool execution requires approval\\n\\nTool: send_email\\nArgs: {\\'recepient\\': \\'jim@example.com\\', \\'content\\': \"Hi Jim,\\\\n\\\\nI wanted to let you know that I\\'ll be running late today.\\\\n\\\\nThanks for understanding.\\\\n\\\\nBest regards,\\\\nHarrison\"}'}], id='f13fcce57afa5967967f1364beb13eea'),)}\n"
     ]
    }
   ],
   "source": [
    "hitl_response = \"\"\"ERROR: user interrupted with feedback: \n",
    "\n",
    "Sign it from Harrison\"\"\"\n",
    "\n",
    "for s in agent.stream(Command(resume=[{\"type\": \"response\", \"args\": hitl_response}]), config=config):\n",
    "    print(s)"
   ]
  },
  {
   "cell_type": "markdown",
   "id": "28e8fb3c",
   "metadata": {},
   "source": [
    "## Interrupt again\n",
    "\n",
    "Then it interrupts again because it goes back to this human in the loop config. There's now this new email that needs to be sent. And now I can accept it. "
   ]
  },
  {
   "cell_type": "code",
   "execution_count": 15,
   "id": "3ce5a071",
   "metadata": {},
   "outputs": [
    {
     "name": "stdout",
     "output_type": "stream",
     "text": [
      "{'post_model_hook': {'messages': [AIMessage(content=[{'text': 'Let me send that email again with your signature:', 'type': 'text'}, {'id': 'toolu_01RKdxzhzX5G59ndzp48woqc', 'input': {'recepient': 'jim@example.com', 'content': \"Hi Jim,\\n\\nI wanted to let you know that I'll be running late today.\\n\\nThanks for understanding.\\n\\nBest regards,\\nHarrison\"}, 'name': 'send_email', 'type': 'tool_use'}], additional_kwargs={}, response_metadata={'id': 'msg_01NpwQPtGwUEurvdXBvkZDns', 'model': 'claude-sonnet-4-20250514', 'stop_reason': 'tool_use', 'stop_sequence': None, 'usage': {'cache_creation': {'ephemeral_1h_input_tokens': 0, 'ephemeral_5m_input_tokens': 0}, 'cache_creation_input_tokens': 0, 'cache_read_input_tokens': 0, 'input_tokens': 5070, 'output_tokens': 115, 'server_tool_use': None, 'service_tier': 'standard'}, 'model_name': 'claude-sonnet-4-20250514'}, id='run--40d1a1f0-c93c-439c-96b0-f2174211ff06-0', tool_calls=[{'name': 'send_email', 'args': {'recepient': 'jim@example.com', 'content': \"Hi Jim,\\n\\nI wanted to let you know that I'll be running late today.\\n\\nThanks for understanding.\\n\\nBest regards,\\nHarrison\"}, 'id': 'toolu_01RKdxzhzX5G59ndzp48woqc', 'type': 'tool_call'}], usage_metadata={'input_tokens': 5070, 'output_tokens': 115, 'total_tokens': 5185, 'input_token_details': {'cache_creation': 0, 'cache_read': 0, 'ephemeral_5m_input_tokens': 0, 'ephemeral_1h_input_tokens': 0}})]}}\n",
      "Sending email to jim@example.com with content: Hi Jim,\n",
      "\n",
      "I wanted to let you know that I'll be running late today.\n",
      "\n",
      "Thanks for understanding.\n",
      "\n",
      "Best regards,\n",
      "Harrison\n",
      "{'tools': {'messages': [ToolMessage(content='Email sent successfully', name='send_email', id='cfb3b171-bdd5-4a9b-87b8-bd3f3d508e2d', tool_call_id='toolu_01RKdxzhzX5G59ndzp48woqc')]}}\n",
      "{'agent': {'messages': [AIMessage(content=\"Done! I've sent Jim an email letting him know you'll be late, signed from Harrison.\", additional_kwargs={}, response_metadata={'id': 'msg_01HKxJMqx8E9At54L2276C2o', 'model': 'claude-sonnet-4-20250514', 'stop_reason': 'end_turn', 'stop_sequence': None, 'usage': {'cache_creation': {'ephemeral_1h_input_tokens': 0, 'ephemeral_5m_input_tokens': 0}, 'cache_creation_input_tokens': 0, 'cache_read_input_tokens': 0, 'input_tokens': 5200, 'output_tokens': 23, 'server_tool_use': None, 'service_tier': 'standard'}, 'model_name': 'claude-sonnet-4-20250514'}, id='run--8d492528-74cf-4b0d-aca3-06b979ea1957-0', usage_metadata={'input_tokens': 5200, 'output_tokens': 23, 'total_tokens': 5223, 'input_token_details': {'cache_read': 0, 'cache_creation': 0, 'ephemeral_5m_input_tokens': 0, 'ephemeral_1h_input_tokens': 0}})]}}\n",
      "{'post_model_hook': None}\n"
     ]
    }
   ],
   "source": [
    "for s in agent.stream(Command(resume=[{\"type\": \"accept\"}]), config=config):\n",
    "    print(s)"
   ]
  }
 ],
 "metadata": {
  "kernelspec": {
   "display_name": "Python 3 (ipykernel)",
   "language": "python",
   "name": "python3"
  },
  "language_info": {
   "codemirror_mode": {
    "name": "ipython",
    "version": 3
   },
   "file_extension": ".py",
   "mimetype": "text/x-python",
   "name": "python",
   "nbconvert_exporter": "python",
   "pygments_lexer": "ipython3",
   "version": "3.12.7"
  }
 },
 "nbformat": 4,
 "nbformat_minor": 5
}
